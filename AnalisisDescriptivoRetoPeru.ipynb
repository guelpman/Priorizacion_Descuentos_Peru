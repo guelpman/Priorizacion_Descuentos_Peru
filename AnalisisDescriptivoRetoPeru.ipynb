{
  "nbformat": 4,
  "nbformat_minor": 0,
  "metadata": {
    "colab": {
      "name": "Untitled0.ipynb",
      "provenance": [],
      "authorship_tag": "ABX9TyNdmW2YQ5ijYIWBxXKQZyh/",
      "include_colab_link": true
    },
    "kernelspec": {
      "name": "python3",
      "display_name": "Python 3"
    }
  },
  "cells": [
    {
      "cell_type": "markdown",
      "metadata": {
        "id": "view-in-github",
        "colab_type": "text"
      },
      "source": [
        "<a href=\"https://colab.research.google.com/github/guelpman/Priorizacion_Descuentos_Peru/blob/Susana/AnalisisDescriptivoRetoPeru.ipynb\" target=\"_parent\"><img src=\"https://colab.research.google.com/assets/colab-badge.svg\" alt=\"Open In Colab\"/></a>"
      ]
    },
    {
      "cell_type": "code",
      "metadata": {
        "id": "O_WKlS9kkH4D"
      },
      "source": [
        "import pandas as pd\n",
        "import numpy as np\n",
        "import matplotlib.pyplot as plt\n",
        "import os\n"
      ],
      "execution_count": 1,
      "outputs": []
    },
    {
      "cell_type": "code",
      "metadata": {
        "id": "311VgChw5tWJ"
      },
      "source": [
        "Filenames={'clients_attributes.csv','executed_promos.csv'}"
      ],
      "execution_count": 7,
      "outputs": []
    },
    {
      "cell_type": "code",
      "metadata": {
        "id": "O7rjOBvu6CXg",
        "outputId": "df394d7f-ddc0-42f9-927e-b35db75dbbc6",
        "colab": {
          "base_uri": "https://localhost:8080/",
          "height": 129
        }
      },
      "source": [
        "for i in filenames:\n",
        "  print(str(i))\n",
        "  urlpath = \"https://raw.githubusercontent.com/IrisMon/Priorizacion_Descuentos_Peru/main/\"\n",
        "  filename = str(i)\n",
        "  fullpath = os.path.join(urlpath, filename)\n",
        "  str(i)= pd.read_csv(fullpath)\n",
        " ### print(df_str(i).head(3))\n"
      ],
      "execution_count": 11,
      "outputs": [
        {
          "output_type": "error",
          "ename": "SyntaxError",
          "evalue": "ignored",
          "traceback": [
            "\u001b[0;36m  File \u001b[0;32m\"<ipython-input-11-8e8ad13aabdc>\"\u001b[0;36m, line \u001b[0;32m6\u001b[0m\n\u001b[0;31m    str(i)= pd.read_csv(fullpath)\u001b[0m\n\u001b[0m    ^\u001b[0m\n\u001b[0;31mSyntaxError\u001b[0m\u001b[0;31m:\u001b[0m can't assign to function call\n"
          ]
        }
      ]
    },
    {
      "cell_type": "code",
      "metadata": {
        "colab": {
          "base_uri": "https://localhost:8080/",
          "height": 204
        },
        "id": "Sy6GNCiskerK",
        "outputId": "1526129e-503b-422a-8eaf-e136b30ff0b2"
      },
      "source": [
        "### Importamos los data set clients_attributes\n",
        "urlpath = \"https://raw.githubusercontent.com/IrisMon/Priorizacion_Descuentos_Peru/main/\"\n",
        "filename = \"clients_attributes.csv\"\n",
        "fullpath = os.path.join(urlpath, filename)\n",
        "df_clients= pd.read_csv(fullpath)\n",
        "df_clients.head()"
      ],
      "execution_count": 12,
      "outputs": [
        {
          "output_type": "execute_result",
          "data": {
            "text/html": [
              "<div>\n",
              "<style scoped>\n",
              "    .dataframe tbody tr th:only-of-type {\n",
              "        vertical-align: middle;\n",
              "    }\n",
              "\n",
              "    .dataframe tbody tr th {\n",
              "        vertical-align: top;\n",
              "    }\n",
              "\n",
              "    .dataframe thead th {\n",
              "        text-align: right;\n",
              "    }\n",
              "</style>\n",
              "<table border=\"1\" class=\"dataframe\">\n",
              "  <thead>\n",
              "    <tr style=\"text-align: right;\">\n",
              "      <th></th>\n",
              "      <th>Cliente</th>\n",
              "      <th>FechaAltaCliente</th>\n",
              "      <th>Region</th>\n",
              "      <th>Gerencia</th>\n",
              "      <th>SubCanal</th>\n",
              "      <th>TipoPoblacion</th>\n",
              "      <th>Estrato</th>\n",
              "      <th>EF</th>\n",
              "    </tr>\n",
              "  </thead>\n",
              "  <tbody>\n",
              "    <tr>\n",
              "      <th>0</th>\n",
              "      <td>1</td>\n",
              "      <td>2009-03-03</td>\n",
              "      <td>4</td>\n",
              "      <td>21</td>\n",
              "      <td>12</td>\n",
              "      <td>1</td>\n",
              "      <td>1</td>\n",
              "      <td>1</td>\n",
              "    </tr>\n",
              "    <tr>\n",
              "      <th>1</th>\n",
              "      <td>9</td>\n",
              "      <td>2009-03-03</td>\n",
              "      <td>4</td>\n",
              "      <td>21</td>\n",
              "      <td>9</td>\n",
              "      <td>2</td>\n",
              "      <td>3</td>\n",
              "      <td>1</td>\n",
              "    </tr>\n",
              "    <tr>\n",
              "      <th>2</th>\n",
              "      <td>15</td>\n",
              "      <td>2009-03-03</td>\n",
              "      <td>4</td>\n",
              "      <td>21</td>\n",
              "      <td>9</td>\n",
              "      <td>2</td>\n",
              "      <td>3</td>\n",
              "      <td>0</td>\n",
              "    </tr>\n",
              "    <tr>\n",
              "      <th>3</th>\n",
              "      <td>37</td>\n",
              "      <td>2009-03-03</td>\n",
              "      <td>4</td>\n",
              "      <td>21</td>\n",
              "      <td>16</td>\n",
              "      <td>2</td>\n",
              "      <td>3</td>\n",
              "      <td>1</td>\n",
              "    </tr>\n",
              "    <tr>\n",
              "      <th>4</th>\n",
              "      <td>43</td>\n",
              "      <td>2009-03-03</td>\n",
              "      <td>4</td>\n",
              "      <td>21</td>\n",
              "      <td>9</td>\n",
              "      <td>2</td>\n",
              "      <td>3</td>\n",
              "      <td>0</td>\n",
              "    </tr>\n",
              "  </tbody>\n",
              "</table>\n",
              "</div>"
            ],
            "text/plain": [
              "   Cliente FechaAltaCliente  Region  ...  TipoPoblacion  Estrato  EF\n",
              "0        1       2009-03-03       4  ...              1        1   1\n",
              "1        9       2009-03-03       4  ...              2        3   1\n",
              "2       15       2009-03-03       4  ...              2        3   0\n",
              "3       37       2009-03-03       4  ...              2        3   1\n",
              "4       43       2009-03-03       4  ...              2        3   0\n",
              "\n",
              "[5 rows x 8 columns]"
            ]
          },
          "metadata": {
            "tags": []
          },
          "execution_count": 12
        }
      ]
    },
    {
      "cell_type": "code",
      "metadata": {
        "colab": {
          "base_uri": "https://localhost:8080/",
          "height": 204
        },
        "id": "ROq3M3jTke7b",
        "outputId": "82a4f39f-1815-4baa-fd78-f85a38a765cf"
      },
      "source": [
        "### Importamos los data set --- \n",
        "urlpath = \"https://raw.githubusercontent.com/IrisMon/Priorizacion_Descuentos_Peru/main/\"\n",
        "filename = \"executed_promos.csv\"\n",
        "fullpath = os.path.join(urlpath, filename)\n",
        "df_Expromos= pd.read_csv(fullpath)\n",
        "df_Expromos.head()"
      ],
      "execution_count": 13,
      "outputs": [
        {
          "output_type": "execute_result",
          "data": {
            "text/html": [
              "<div>\n",
              "<style scoped>\n",
              "    .dataframe tbody tr th:only-of-type {\n",
              "        vertical-align: middle;\n",
              "    }\n",
              "\n",
              "    .dataframe tbody tr th {\n",
              "        vertical-align: top;\n",
              "    }\n",
              "\n",
              "    .dataframe thead th {\n",
              "        text-align: right;\n",
              "    }\n",
              "</style>\n",
              "<table border=\"1\" class=\"dataframe\">\n",
              "  <thead>\n",
              "    <tr style=\"text-align: right;\">\n",
              "      <th></th>\n",
              "      <th>CodigoDC</th>\n",
              "      <th>Cliente</th>\n",
              "      <th>Marca</th>\n",
              "      <th>Cupo</th>\n",
              "    </tr>\n",
              "  </thead>\n",
              "  <tbody>\n",
              "    <tr>\n",
              "      <th>0</th>\n",
              "      <td>297601</td>\n",
              "      <td>8410</td>\n",
              "      <td>29</td>\n",
              "      <td>9</td>\n",
              "    </tr>\n",
              "    <tr>\n",
              "      <th>1</th>\n",
              "      <td>297601</td>\n",
              "      <td>9337</td>\n",
              "      <td>29</td>\n",
              "      <td>9</td>\n",
              "    </tr>\n",
              "    <tr>\n",
              "      <th>2</th>\n",
              "      <td>309843</td>\n",
              "      <td>7404</td>\n",
              "      <td>40</td>\n",
              "      <td>16</td>\n",
              "    </tr>\n",
              "    <tr>\n",
              "      <th>3</th>\n",
              "      <td>309874</td>\n",
              "      <td>4017</td>\n",
              "      <td>40</td>\n",
              "      <td>16</td>\n",
              "    </tr>\n",
              "    <tr>\n",
              "      <th>4</th>\n",
              "      <td>309910</td>\n",
              "      <td>6316</td>\n",
              "      <td>40</td>\n",
              "      <td>16</td>\n",
              "    </tr>\n",
              "  </tbody>\n",
              "</table>\n",
              "</div>"
            ],
            "text/plain": [
              "   CodigoDC  Cliente  Marca  Cupo\n",
              "0    297601     8410     29     9\n",
              "1    297601     9337     29     9\n",
              "2    309843     7404     40    16\n",
              "3    309874     4017     40    16\n",
              "4    309910     6316     40    16"
            ]
          },
          "metadata": {
            "tags": []
          },
          "execution_count": 13
        }
      ]
    },
    {
      "cell_type": "code",
      "metadata": {
        "colab": {
          "base_uri": "https://localhost:8080/",
          "height": 204
        },
        "id": "-NZoQFXglClK",
        "outputId": "0dc8b9b0-4b5c-452d-fba2-0d9985d8fe1c"
      },
      "source": [
        "### Importamos los data set active_promos\n",
        "urlpath = \"https://raw.githubusercontent.com/IrisMon/Priorizacion_Descuentos_Peru/main/\"\n",
        "filename = \"active_promos.csv\"\n",
        "fullpath = os.path.join(urlpath, filename)\n",
        "df_actpromos= pd.read_csv(fullpath)\n",
        "df_actpromos.head()"
      ],
      "execution_count": 14,
      "outputs": [
        {
          "output_type": "execute_result",
          "data": {
            "text/html": [
              "<div>\n",
              "<style scoped>\n",
              "    .dataframe tbody tr th:only-of-type {\n",
              "        vertical-align: middle;\n",
              "    }\n",
              "\n",
              "    .dataframe tbody tr th {\n",
              "        vertical-align: top;\n",
              "    }\n",
              "\n",
              "    .dataframe thead th {\n",
              "        text-align: right;\n",
              "    }\n",
              "</style>\n",
              "<table border=\"1\" class=\"dataframe\">\n",
              "  <thead>\n",
              "    <tr style=\"text-align: right;\">\n",
              "      <th></th>\n",
              "      <th>CodigoDC</th>\n",
              "      <th>Marca</th>\n",
              "      <th>Cupo</th>\n",
              "      <th>Fecha_Desde</th>\n",
              "      <th>Fecha_Hasta</th>\n",
              "      <th>Cliente</th>\n",
              "    </tr>\n",
              "  </thead>\n",
              "  <tbody>\n",
              "    <tr>\n",
              "      <th>0</th>\n",
              "      <td>297601</td>\n",
              "      <td>29</td>\n",
              "      <td>9</td>\n",
              "      <td>2018-08-06</td>\n",
              "      <td>2018-08-30</td>\n",
              "      <td>3213</td>\n",
              "    </tr>\n",
              "    <tr>\n",
              "      <th>1</th>\n",
              "      <td>297601</td>\n",
              "      <td>29</td>\n",
              "      <td>9</td>\n",
              "      <td>2018-08-06</td>\n",
              "      <td>2018-08-30</td>\n",
              "      <td>3795</td>\n",
              "    </tr>\n",
              "    <tr>\n",
              "      <th>2</th>\n",
              "      <td>297601</td>\n",
              "      <td>29</td>\n",
              "      <td>9</td>\n",
              "      <td>2018-08-06</td>\n",
              "      <td>2018-08-30</td>\n",
              "      <td>11816</td>\n",
              "    </tr>\n",
              "    <tr>\n",
              "      <th>3</th>\n",
              "      <td>298856</td>\n",
              "      <td>40</td>\n",
              "      <td>16</td>\n",
              "      <td>2018-08-12</td>\n",
              "      <td>2018-08-19</td>\n",
              "      <td>8444</td>\n",
              "    </tr>\n",
              "    <tr>\n",
              "      <th>4</th>\n",
              "      <td>309916</td>\n",
              "      <td>40</td>\n",
              "      <td>16</td>\n",
              "      <td>2018-08-12</td>\n",
              "      <td>2018-08-19</td>\n",
              "      <td>8488</td>\n",
              "    </tr>\n",
              "  </tbody>\n",
              "</table>\n",
              "</div>"
            ],
            "text/plain": [
              "   CodigoDC  Marca  Cupo Fecha_Desde Fecha_Hasta  Cliente\n",
              "0    297601     29     9  2018-08-06  2018-08-30     3213\n",
              "1    297601     29     9  2018-08-06  2018-08-30     3795\n",
              "2    297601     29     9  2018-08-06  2018-08-30    11816\n",
              "3    298856     40    16  2018-08-12  2018-08-19     8444\n",
              "4    309916     40    16  2018-08-12  2018-08-19     8488"
            ]
          },
          "metadata": {
            "tags": []
          },
          "execution_count": 14
        }
      ]
    },
    {
      "cell_type": "code",
      "metadata": {
        "id": "URKVDZvzD1An"
      },
      "source": [
        "Fechas1=['Fecha_Desde','Fecha_Hasta']"
      ],
      "execution_count": 64,
      "outputs": []
    },
    {
      "cell_type": "code",
      "metadata": {
        "id": "sBlFgrqKDwZX",
        "outputId": "95422fbe-d905-4b15-cdd6-aa20e0ffba40",
        "colab": {
          "base_uri": "https://localhost:8080/"
        }
      },
      "source": [
        "for c in Fechas1:\n",
        "    print(str(c))\n",
        "    df_actpromos[str(c)] = pd.to_datetime(df_actpromos[str(c)])\n",
        "    df_actpromos[str(c)+'_year'] = df_actpromos[str(c)].dt.year \n",
        "    df_actpromos[str(c)+'_month'] = df_actpromos[str(c)].dt.month\n",
        "    df_actpromos[str(c)+'_day'] = df_actpromos[str(c)].dt.day "
      ],
      "execution_count": 66,
      "outputs": [
        {
          "output_type": "stream",
          "text": [
            "Fecha_Desde\n",
            "Fecha_Hasta\n"
          ],
          "name": "stdout"
        }
      ]
    },
    {
      "cell_type": "code",
      "metadata": {
        "id": "IC9Yicm0EDB-",
        "outputId": "491c14fb-efea-4f49-e4d4-53547410bc30",
        "colab": {
          "base_uri": "https://localhost:8080/"
        }
      },
      "source": [
        "df_actpromos.groupby(['Fecha_Desde_year','Fecha_Desde_month'])['CodigoDC'].count()"
      ],
      "execution_count": 71,
      "outputs": [
        {
          "output_type": "execute_result",
          "data": {
            "text/plain": [
              "Fecha_Desde_year  Fecha_Desde_month\n",
              "2018              8                     2735\n",
              "                  9                    79630\n",
              "                  10                   69134\n",
              "                  11                   89347\n",
              "                  12                    3238\n",
              "2019              1                    50522\n",
              "                  2                     1551\n",
              "                  3                    34723\n",
              "                  4                     2633\n",
              "                  5                     4656\n",
              "                  6                     2425\n",
              "                  7                    13819\n",
              "                  8                    31463\n",
              "                  9                    36561\n",
              "Name: CodigoDC, dtype: int64"
            ]
          },
          "metadata": {
            "tags": []
          },
          "execution_count": 71
        }
      ]
    },
    {
      "cell_type": "code",
      "metadata": {
        "colab": {
          "base_uri": "https://localhost:8080/",
          "height": 204
        },
        "id": "Sh0aqhAIlE0D",
        "outputId": "e9125877-c13f-49e2-e3ea-68866ed3466e"
      },
      "source": [
        "### Importamos los data set active_promos\n",
        "urlpath = \"https://raw.githubusercontent.com/IrisMon/Priorizacion_Descuentos_Peru/main/\"\n",
        "filename = \"sales.csv\"\n",
        "fullpath = os.path.join(urlpath, filename)\n",
        "df_sales= pd.read_csv(fullpath,encoding='ISO-8859-1')\n",
        "df_sales.head()"
      ],
      "execution_count": 15,
      "outputs": [
        {
          "output_type": "execute_result",
          "data": {
            "text/html": [
              "<div>\n",
              "<style scoped>\n",
              "    .dataframe tbody tr th:only-of-type {\n",
              "        vertical-align: middle;\n",
              "    }\n",
              "\n",
              "    .dataframe tbody tr th {\n",
              "        vertical-align: top;\n",
              "    }\n",
              "\n",
              "    .dataframe thead th {\n",
              "        text-align: right;\n",
              "    }\n",
              "</style>\n",
              "<table border=\"1\" class=\"dataframe\">\n",
              "  <thead>\n",
              "    <tr style=\"text-align: right;\">\n",
              "      <th></th>\n",
              "      <th>Cliente</th>\n",
              "      <th>Año</th>\n",
              "      <th>Mes</th>\n",
              "      <th>ClaseEnvase</th>\n",
              "      <th>SegmentoPrecio</th>\n",
              "      <th>Marca</th>\n",
              "      <th>Cupo</th>\n",
              "      <th>Nr</th>\n",
              "      <th>Hl</th>\n",
              "      <th>Dcto</th>\n",
              "    </tr>\n",
              "  </thead>\n",
              "  <tbody>\n",
              "    <tr>\n",
              "      <th>0</th>\n",
              "      <td>1</td>\n",
              "      <td>2018</td>\n",
              "      <td>1</td>\n",
              "      <td>2</td>\n",
              "      <td>2.0</td>\n",
              "      <td>44</td>\n",
              "      <td>10.0</td>\n",
              "      <td>6352.94</td>\n",
              "      <td>0.03</td>\n",
              "      <td>0.0</td>\n",
              "    </tr>\n",
              "    <tr>\n",
              "      <th>1</th>\n",
              "      <td>1</td>\n",
              "      <td>2018</td>\n",
              "      <td>1</td>\n",
              "      <td>2</td>\n",
              "      <td>4.0</td>\n",
              "      <td>18</td>\n",
              "      <td>16.0</td>\n",
              "      <td>99130.50</td>\n",
              "      <td>0.45</td>\n",
              "      <td>0.0</td>\n",
              "    </tr>\n",
              "    <tr>\n",
              "      <th>2</th>\n",
              "      <td>1</td>\n",
              "      <td>2018</td>\n",
              "      <td>6</td>\n",
              "      <td>2</td>\n",
              "      <td>1.0</td>\n",
              "      <td>2</td>\n",
              "      <td>6.0</td>\n",
              "      <td>11605.40</td>\n",
              "      <td>0.07</td>\n",
              "      <td>-2880.0</td>\n",
              "    </tr>\n",
              "    <tr>\n",
              "      <th>3</th>\n",
              "      <td>1</td>\n",
              "      <td>2018</td>\n",
              "      <td>7</td>\n",
              "      <td>1</td>\n",
              "      <td>2.0</td>\n",
              "      <td>37</td>\n",
              "      <td>34.0</td>\n",
              "      <td>1944.01</td>\n",
              "      <td>0.01</td>\n",
              "      <td>0.0</td>\n",
              "    </tr>\n",
              "    <tr>\n",
              "      <th>4</th>\n",
              "      <td>1</td>\n",
              "      <td>2018</td>\n",
              "      <td>8</td>\n",
              "      <td>2</td>\n",
              "      <td>1.0</td>\n",
              "      <td>2</td>\n",
              "      <td>16.0</td>\n",
              "      <td>16250.18</td>\n",
              "      <td>0.06</td>\n",
              "      <td>0.0</td>\n",
              "    </tr>\n",
              "  </tbody>\n",
              "</table>\n",
              "</div>"
            ],
            "text/plain": [
              "   Cliente   Año  Mes  ClaseEnvase  ...  Cupo        Nr    Hl    Dcto\n",
              "0        1  2018    1            2  ...  10.0   6352.94  0.03     0.0\n",
              "1        1  2018    1            2  ...  16.0  99130.50  0.45     0.0\n",
              "2        1  2018    6            2  ...   6.0  11605.40  0.07 -2880.0\n",
              "3        1  2018    7            1  ...  34.0   1944.01  0.01     0.0\n",
              "4        1  2018    8            2  ...  16.0  16250.18  0.06     0.0\n",
              "\n",
              "[5 rows x 10 columns]"
            ]
          },
          "metadata": {
            "tags": []
          },
          "execution_count": 15
        }
      ]
    },
    {
      "cell_type": "code",
      "metadata": {
        "id": "b_eojhJ0ToQK",
        "colab": {
          "base_uri": "https://localhost:8080/",
          "height": 221
        },
        "outputId": "f410fcf9-814d-4001-ce49-057e2ea98118"
      },
      "source": [
        "### Importamos los data set active_promos\n",
        "urlpath = \"https://raw.githubusercontent.com/brewing-datacup/reto-peru-2020/main/data/\"\n",
        "filename = \"test.csv\"\n",
        "fullpath = os.path.join(urlpath, filename)\n",
        "test= pd.read_csv(fullpath,sep=',')\n",
        "print(str(len(test)))\n",
        "test.head()"
      ],
      "execution_count": 63,
      "outputs": [
        {
          "output_type": "stream",
          "text": [
            "16870\n"
          ],
          "name": "stdout"
        },
        {
          "output_type": "execute_result",
          "data": {
            "text/html": [
              "<div>\n",
              "<style scoped>\n",
              "    .dataframe tbody tr th:only-of-type {\n",
              "        vertical-align: middle;\n",
              "    }\n",
              "\n",
              "    .dataframe tbody tr th {\n",
              "        vertical-align: top;\n",
              "    }\n",
              "\n",
              "    .dataframe thead th {\n",
              "        text-align: right;\n",
              "    }\n",
              "</style>\n",
              "<table border=\"1\" class=\"dataframe\">\n",
              "  <thead>\n",
              "    <tr style=\"text-align: right;\">\n",
              "      <th></th>\n",
              "      <th>Cliente</th>\n",
              "      <th>Marca</th>\n",
              "      <th>Cupo</th>\n",
              "      <th>Ejecuto_Promo</th>\n",
              "    </tr>\n",
              "  </thead>\n",
              "  <tbody>\n",
              "    <tr>\n",
              "      <th>0</th>\n",
              "      <td>10</td>\n",
              "      <td>40</td>\n",
              "      <td>16</td>\n",
              "      <td>NaN</td>\n",
              "    </tr>\n",
              "    <tr>\n",
              "      <th>1</th>\n",
              "      <td>17</td>\n",
              "      <td>29</td>\n",
              "      <td>9</td>\n",
              "      <td>NaN</td>\n",
              "    </tr>\n",
              "    <tr>\n",
              "      <th>2</th>\n",
              "      <td>37</td>\n",
              "      <td>29</td>\n",
              "      <td>9</td>\n",
              "      <td>NaN</td>\n",
              "    </tr>\n",
              "    <tr>\n",
              "      <th>3</th>\n",
              "      <td>46</td>\n",
              "      <td>29</td>\n",
              "      <td>9</td>\n",
              "      <td>NaN</td>\n",
              "    </tr>\n",
              "    <tr>\n",
              "      <th>4</th>\n",
              "      <td>48</td>\n",
              "      <td>29</td>\n",
              "      <td>9</td>\n",
              "      <td>NaN</td>\n",
              "    </tr>\n",
              "  </tbody>\n",
              "</table>\n",
              "</div>"
            ],
            "text/plain": [
              "   Cliente  Marca  Cupo  Ejecuto_Promo\n",
              "0       10     40    16            NaN\n",
              "1       17     29     9            NaN\n",
              "2       37     29     9            NaN\n",
              "3       46     29     9            NaN\n",
              "4       48     29     9            NaN"
            ]
          },
          "metadata": {
            "tags": []
          },
          "execution_count": 63
        }
      ]
    },
    {
      "cell_type": "code",
      "metadata": {
        "id": "qsmy6KSBUVlQ",
        "colab": {
          "base_uri": "https://localhost:8080/",
          "height": 224
        },
        "outputId": "e05ca3ee-b4f2-4b23-d6e7-43dad9d9751a"
      },
      "source": [
        "urlpath = \"https://raw.githubusercontent.com/guelpman/Priorizacion_Descuentos_Peru/main/\"\n",
        "filename = \"Promos_Cliente_3.txt\"\n",
        "fullpath = os.path.join(urlpath,filename)\n",
        "data=pd.read_csv(fullpath,sep='\\t', encoding='ISO-8859-1')\n",
        "data.head()"
      ],
      "execution_count": 31,
      "outputs": [
        {
          "output_type": "execute_result",
          "data": {
            "text/html": [
              "<div>\n",
              "<style scoped>\n",
              "    .dataframe tbody tr th:only-of-type {\n",
              "        vertical-align: middle;\n",
              "    }\n",
              "\n",
              "    .dataframe tbody tr th {\n",
              "        vertical-align: top;\n",
              "    }\n",
              "\n",
              "    .dataframe thead th {\n",
              "        text-align: right;\n",
              "    }\n",
              "</style>\n",
              "<table border=\"1\" class=\"dataframe\">\n",
              "  <thead>\n",
              "    <tr style=\"text-align: right;\">\n",
              "      <th></th>\n",
              "      <th>Cliente</th>\n",
              "      <th>Marca</th>\n",
              "      <th>Cupo</th>\n",
              "      <th>Total_Promociones</th>\n",
              "      <th>Prom_Duracion_dd</th>\n",
              "      <th>Total_Duracion_dd</th>\n",
              "      <th>Maxima_Duracion_dd</th>\n",
              "      <th>Minima_Duracion_dd</th>\n",
              "      <th>MinFecha_Desde</th>\n",
              "      <th>MaxFecha_Desde</th>\n",
              "      <th>Total_Promo_Ejecutadas</th>\n",
              "      <th>Prom_Duracion_Ejecutadas_dd</th>\n",
              "      <th>Total_Duracion_Ejecutadas_dd</th>\n",
              "      <th>Maxima_Duracion_Ejecutadas_dd</th>\n",
              "      <th>Minima_Duracion_Ejecutadas_dd</th>\n",
              "      <th>MinFecha_Ejecutadas_Desde</th>\n",
              "      <th>MaxFecha_Ejecutadas_Desde</th>\n",
              "      <th>FechaAltaCliente</th>\n",
              "      <th>Region</th>\n",
              "      <th>Gerencia</th>\n",
              "      <th>SubCanal</th>\n",
              "      <th>TipoPoblacion</th>\n",
              "      <th>Estrato</th>\n",
              "      <th>EF</th>\n",
              "      <th>Antiguedad_Cliente_EmpezoPromo_dd</th>\n",
              "      <th>Total_Net_Revenue</th>\n",
              "      <th>Total_Net_Volumen</th>\n",
              "      <th>Total_Dcto</th>\n",
              "      <th>Max_Net_Revenue</th>\n",
              "      <th>Max_Net_Volumen</th>\n",
              "      <th>Max_Dcto</th>\n",
              "      <th>Min_Net_Revenue</th>\n",
              "      <th>Min_Net_Volumen</th>\n",
              "      <th>Min_Dcto</th>\n",
              "      <th>Total_Net_Revenue_Clase_Envase_1</th>\n",
              "      <th>Total_Net_Volumen_Clase_Envase_1</th>\n",
              "      <th>Total_Net_Dscto_Clase_Envase_1</th>\n",
              "      <th>Total_Net_Revenue_Clase_Envase_2</th>\n",
              "      <th>Total_Net_Volumen_Clase_Envase_2</th>\n",
              "      <th>Total_Net_Dscto_Clase_Envase_2</th>\n",
              "      <th>Total_Net_Revenue_Clase_Envase_3</th>\n",
              "      <th>Total_Net_Volumen_Clase_Envase_3</th>\n",
              "      <th>Total_Net_Dscto_Clase_Envase_3</th>\n",
              "      <th>Total_Net_Revenue_Clase_SegmentoPrecio_1</th>\n",
              "      <th>Total_Net_Volumen_Clase_SegmentoPrecio_1</th>\n",
              "      <th>Total_Net_Dscto_Clase_SegmentoPrecio_1</th>\n",
              "      <th>Total_Net_Revenue_Clase_SegmentoPrecio_2</th>\n",
              "      <th>Total_Net_Volumen_Clase_SegmentoPrecio_2</th>\n",
              "      <th>Total_Net_Dscto_Clase_SegmentoPrecio_2</th>\n",
              "      <th>Total_Net_Revenue_Clase_SegmentoPrecio_3</th>\n",
              "      <th>Total_Net_Volumen_Clase_SegmentoPrecio_3</th>\n",
              "      <th>Total_Net_Dscto_Clase_SegmentoPrecio_3</th>\n",
              "      <th>Total_Net_Revenue_Clase_SegmentoPrecio_4</th>\n",
              "      <th>Total_Net_Volumen_Clase_SegmentoPrecio_4</th>\n",
              "      <th>Total_Net_Dscto_Clase_SegmentoPrecio_4</th>\n",
              "      <th>UltimoAñoMesVenta</th>\n",
              "      <th>Ultimo_Total_Net_Revenue</th>\n",
              "      <th>Ultimo_Total_Net_Volumen</th>\n",
              "      <th>Ultimo_Total_Dcto</th>\n",
              "      <th>Ultimo_Total_Net_Revenue_Clase_Envase_1</th>\n",
              "      <th>Ultimo_Total_Net_Volumen_Clase_Envase_1</th>\n",
              "      <th>Ultimo_Total_Net_Dscto_Clase_Envase_1</th>\n",
              "      <th>Ultimo_Total_Net_Revenue_Clase_Envase_2</th>\n",
              "      <th>Ultimo_Total_Net_Volumen_Clase_Envase_2</th>\n",
              "      <th>Ultimo_Total_Net_Dscto_Clase_Envase_2</th>\n",
              "      <th>Ultimo_Total_Net_Revenue_Clase_Envase_3</th>\n",
              "      <th>Ultimo_Total_Net_Volumen_Clase_Envase_3</th>\n",
              "      <th>Ultimo_Total_Net_Dscto_Clase_Envase_3</th>\n",
              "      <th>Ultimo_Total_Net_Revenue_Clase_SegmentoPrecio_1</th>\n",
              "      <th>Ultimo_Total_Net_Volumen_Clase_SegmentoPrecio_1</th>\n",
              "      <th>Ultimo_Total_Net_Dscto_Clase_SegmentoPrecio_1</th>\n",
              "      <th>Ultimo_Total_Net_Revenue_Clase_SegmentoPrecio_2</th>\n",
              "      <th>Ultimo_Total_Net_Volumen_Clase_SegmentoPrecio_2</th>\n",
              "      <th>Ultimo_Total_Net_Dscto_Clase_SegmentoPrecio_2</th>\n",
              "      <th>Ultimo_Total_Net_Revenue_Clase_SegmentoPrecio_3</th>\n",
              "      <th>Ultimo_Total_Net_Volumen_Clase_SegmentoPrecio_3</th>\n",
              "      <th>Ultimo_Total_Net_Dscto_Clase_SegmentoPrecio_3</th>\n",
              "      <th>Ultimo_Total_Net_Revenue_Clase_SegmentoPrecio_4</th>\n",
              "      <th>Ultimo_Total_Net_Volumen_Clase_SegmentoPrecio_4</th>\n",
              "      <th>Ultimo_Total_Net_Dscto_Clase_SegmentoPrecio_4</th>\n",
              "    </tr>\n",
              "  </thead>\n",
              "  <tbody>\n",
              "    <tr>\n",
              "      <th>0</th>\n",
              "      <td>4119.0</td>\n",
              "      <td>40.0</td>\n",
              "      <td>16.0</td>\n",
              "      <td>20.0</td>\n",
              "      <td>7.5500</td>\n",
              "      <td>151.0</td>\n",
              "      <td>20.0</td>\n",
              "      <td>0.0</td>\n",
              "      <td>31/08/2018</td>\n",
              "      <td>7/08/2019</td>\n",
              "      <td>8.0</td>\n",
              "      <td>8.0</td>\n",
              "      <td>65.0</td>\n",
              "      <td>20.0</td>\n",
              "      <td>0.0</td>\n",
              "      <td>31/08/2018</td>\n",
              "      <td>11/07/2019</td>\n",
              "      <td>27/04/2010</td>\n",
              "      <td>3.0</td>\n",
              "      <td>9.0</td>\n",
              "      <td>16.0</td>\n",
              "      <td>2.0</td>\n",
              "      <td>2.0</td>\n",
              "      <td>1.0</td>\n",
              "      <td>3048.0</td>\n",
              "      <td>5679835.00</td>\n",
              "      <td>17.85</td>\n",
              "      <td>-147141.99</td>\n",
              "      <td>450746.31</td>\n",
              "      <td>1.40</td>\n",
              "      <td>0.0</td>\n",
              "      <td>39062.94</td>\n",
              "      <td>0.12</td>\n",
              "      <td>-47879.46</td>\n",
              "      <td>0.00</td>\n",
              "      <td>0.00</td>\n",
              "      <td>0.00</td>\n",
              "      <td>5679835.00</td>\n",
              "      <td>17.85</td>\n",
              "      <td>-147141.99</td>\n",
              "      <td>0.0</td>\n",
              "      <td>0.0</td>\n",
              "      <td>0.0</td>\n",
              "      <td>5679835.00</td>\n",
              "      <td>17.85</td>\n",
              "      <td>-147141.99</td>\n",
              "      <td>0.0</td>\n",
              "      <td>0.0</td>\n",
              "      <td>0.0</td>\n",
              "      <td>0.0</td>\n",
              "      <td>0.0</td>\n",
              "      <td>0.0</td>\n",
              "      <td>0.00</td>\n",
              "      <td>0.00</td>\n",
              "      <td>0.00</td>\n",
              "      <td>201908.0</td>\n",
              "      <td>39063.0</td>\n",
              "      <td>0.0</td>\n",
              "      <td>0.0</td>\n",
              "      <td>0.0</td>\n",
              "      <td>0.0</td>\n",
              "      <td>0.0</td>\n",
              "      <td>39063.0</td>\n",
              "      <td>0.0</td>\n",
              "      <td>0.0</td>\n",
              "      <td>0.0</td>\n",
              "      <td>0.0</td>\n",
              "      <td>0.0</td>\n",
              "      <td>39063.0</td>\n",
              "      <td>0.0</td>\n",
              "      <td>0.0</td>\n",
              "      <td>0.0</td>\n",
              "      <td>0.0</td>\n",
              "      <td>0.0</td>\n",
              "      <td>0.0</td>\n",
              "      <td>0.0</td>\n",
              "      <td>0.0</td>\n",
              "      <td>0.0</td>\n",
              "      <td>0.0</td>\n",
              "      <td>0.0</td>\n",
              "    </tr>\n",
              "    <tr>\n",
              "      <th>1</th>\n",
              "      <td>412.0</td>\n",
              "      <td>29.0</td>\n",
              "      <td>9.0</td>\n",
              "      <td>2.0</td>\n",
              "      <td>7.0000</td>\n",
              "      <td>14.0</td>\n",
              "      <td>11.0</td>\n",
              "      <td>3.0</td>\n",
              "      <td>22/11/2018</td>\n",
              "      <td>13/04/2019</td>\n",
              "      <td>0.0</td>\n",
              "      <td>0.0</td>\n",
              "      <td>0.0</td>\n",
              "      <td>0.0</td>\n",
              "      <td>0.0</td>\n",
              "      <td>NaN</td>\n",
              "      <td>NaN</td>\n",
              "      <td>4/08/2009</td>\n",
              "      <td>3.0</td>\n",
              "      <td>32.0</td>\n",
              "      <td>15.0</td>\n",
              "      <td>1.0</td>\n",
              "      <td>2.0</td>\n",
              "      <td>0.0</td>\n",
              "      <td>3397.0</td>\n",
              "      <td>72454.48</td>\n",
              "      <td>0.11</td>\n",
              "      <td>-2200.71</td>\n",
              "      <td>33752.85</td>\n",
              "      <td>0.05</td>\n",
              "      <td>0.0</td>\n",
              "      <td>2772.91</td>\n",
              "      <td>0.00</td>\n",
              "      <td>-2200.71</td>\n",
              "      <td>72454.48</td>\n",
              "      <td>0.11</td>\n",
              "      <td>-2200.71</td>\n",
              "      <td>0.00</td>\n",
              "      <td>0.00</td>\n",
              "      <td>0.00</td>\n",
              "      <td>0.0</td>\n",
              "      <td>0.0</td>\n",
              "      <td>0.0</td>\n",
              "      <td>0.00</td>\n",
              "      <td>0.00</td>\n",
              "      <td>0.00</td>\n",
              "      <td>0.0</td>\n",
              "      <td>0.0</td>\n",
              "      <td>0.0</td>\n",
              "      <td>0.0</td>\n",
              "      <td>0.0</td>\n",
              "      <td>0.0</td>\n",
              "      <td>72454.48</td>\n",
              "      <td>0.11</td>\n",
              "      <td>-2200.71</td>\n",
              "      <td>201908.0</td>\n",
              "      <td>2773.0</td>\n",
              "      <td>0.0</td>\n",
              "      <td>0.0</td>\n",
              "      <td>2773.0</td>\n",
              "      <td>0.0</td>\n",
              "      <td>0.0</td>\n",
              "      <td>0.0</td>\n",
              "      <td>0.0</td>\n",
              "      <td>0.0</td>\n",
              "      <td>0.0</td>\n",
              "      <td>0.0</td>\n",
              "      <td>0.0</td>\n",
              "      <td>0.0</td>\n",
              "      <td>0.0</td>\n",
              "      <td>0.0</td>\n",
              "      <td>0.0</td>\n",
              "      <td>0.0</td>\n",
              "      <td>0.0</td>\n",
              "      <td>0.0</td>\n",
              "      <td>0.0</td>\n",
              "      <td>0.0</td>\n",
              "      <td>2773.0</td>\n",
              "      <td>0.0</td>\n",
              "      <td>0.0</td>\n",
              "    </tr>\n",
              "    <tr>\n",
              "      <th>2</th>\n",
              "      <td>4680.0</td>\n",
              "      <td>40.0</td>\n",
              "      <td>16.0</td>\n",
              "      <td>7.0</td>\n",
              "      <td>5.7142</td>\n",
              "      <td>40.0</td>\n",
              "      <td>11.0</td>\n",
              "      <td>0.0</td>\n",
              "      <td>5/09/2018</td>\n",
              "      <td>7/10/2018</td>\n",
              "      <td>0.0</td>\n",
              "      <td>0.0</td>\n",
              "      <td>0.0</td>\n",
              "      <td>0.0</td>\n",
              "      <td>0.0</td>\n",
              "      <td>NaN</td>\n",
              "      <td>NaN</td>\n",
              "      <td>8/07/2010</td>\n",
              "      <td>5.0</td>\n",
              "      <td>12.0</td>\n",
              "      <td>12.0</td>\n",
              "      <td>1.0</td>\n",
              "      <td>2.0</td>\n",
              "      <td>0.0</td>\n",
              "      <td>2981.0</td>\n",
              "      <td>94089.51</td>\n",
              "      <td>0.30</td>\n",
              "      <td>-2529.98</td>\n",
              "      <td>74461.10</td>\n",
              "      <td>0.24</td>\n",
              "      <td>0.0</td>\n",
              "      <td>19628.41</td>\n",
              "      <td>0.06</td>\n",
              "      <td>-2529.98</td>\n",
              "      <td>0.00</td>\n",
              "      <td>0.00</td>\n",
              "      <td>0.00</td>\n",
              "      <td>94089.51</td>\n",
              "      <td>0.30</td>\n",
              "      <td>-2529.98</td>\n",
              "      <td>0.0</td>\n",
              "      <td>0.0</td>\n",
              "      <td>0.0</td>\n",
              "      <td>94089.51</td>\n",
              "      <td>0.30</td>\n",
              "      <td>-2529.98</td>\n",
              "      <td>0.0</td>\n",
              "      <td>0.0</td>\n",
              "      <td>0.0</td>\n",
              "      <td>0.0</td>\n",
              "      <td>0.0</td>\n",
              "      <td>0.0</td>\n",
              "      <td>0.00</td>\n",
              "      <td>0.00</td>\n",
              "      <td>0.00</td>\n",
              "      <td>201805.0</td>\n",
              "      <td>74461.0</td>\n",
              "      <td>0.0</td>\n",
              "      <td>-2530.0</td>\n",
              "      <td>0.0</td>\n",
              "      <td>0.0</td>\n",
              "      <td>0.0</td>\n",
              "      <td>74461.0</td>\n",
              "      <td>0.0</td>\n",
              "      <td>-2530.0</td>\n",
              "      <td>0.0</td>\n",
              "      <td>0.0</td>\n",
              "      <td>0.0</td>\n",
              "      <td>74461.0</td>\n",
              "      <td>0.0</td>\n",
              "      <td>-2530.0</td>\n",
              "      <td>0.0</td>\n",
              "      <td>0.0</td>\n",
              "      <td>0.0</td>\n",
              "      <td>0.0</td>\n",
              "      <td>0.0</td>\n",
              "      <td>0.0</td>\n",
              "      <td>0.0</td>\n",
              "      <td>0.0</td>\n",
              "      <td>0.0</td>\n",
              "    </tr>\n",
              "    <tr>\n",
              "      <th>3</th>\n",
              "      <td>4682.0</td>\n",
              "      <td>29.0</td>\n",
              "      <td>9.0</td>\n",
              "      <td>3.0</td>\n",
              "      <td>8.6666</td>\n",
              "      <td>26.0</td>\n",
              "      <td>17.0</td>\n",
              "      <td>2.0</td>\n",
              "      <td>19/12/2018</td>\n",
              "      <td>18/08/2019</td>\n",
              "      <td>1.0</td>\n",
              "      <td>7.0</td>\n",
              "      <td>7.0</td>\n",
              "      <td>7.0</td>\n",
              "      <td>0.0</td>\n",
              "      <td>18/08/2019</td>\n",
              "      <td>18/08/2019</td>\n",
              "      <td>8/07/2010</td>\n",
              "      <td>5.0</td>\n",
              "      <td>11.0</td>\n",
              "      <td>6.0</td>\n",
              "      <td>2.0</td>\n",
              "      <td>3.0</td>\n",
              "      <td>1.0</td>\n",
              "      <td>3086.0</td>\n",
              "      <td>623486.04</td>\n",
              "      <td>0.91</td>\n",
              "      <td>-41201.52</td>\n",
              "      <td>199577.50</td>\n",
              "      <td>0.30</td>\n",
              "      <td>0.0</td>\n",
              "      <td>22014.17</td>\n",
              "      <td>0.03</td>\n",
              "      <td>-26137.66</td>\n",
              "      <td>623486.04</td>\n",
              "      <td>0.91</td>\n",
              "      <td>-41201.52</td>\n",
              "      <td>0.00</td>\n",
              "      <td>0.00</td>\n",
              "      <td>0.00</td>\n",
              "      <td>0.0</td>\n",
              "      <td>0.0</td>\n",
              "      <td>0.0</td>\n",
              "      <td>0.00</td>\n",
              "      <td>0.00</td>\n",
              "      <td>0.00</td>\n",
              "      <td>0.0</td>\n",
              "      <td>0.0</td>\n",
              "      <td>0.0</td>\n",
              "      <td>0.0</td>\n",
              "      <td>0.0</td>\n",
              "      <td>0.0</td>\n",
              "      <td>623486.04</td>\n",
              "      <td>0.91</td>\n",
              "      <td>-41201.52</td>\n",
              "      <td>201908.0</td>\n",
              "      <td>199578.0</td>\n",
              "      <td>0.0</td>\n",
              "      <td>-11221.0</td>\n",
              "      <td>199578.0</td>\n",
              "      <td>0.0</td>\n",
              "      <td>-11221.0</td>\n",
              "      <td>0.0</td>\n",
              "      <td>0.0</td>\n",
              "      <td>0.0</td>\n",
              "      <td>0.0</td>\n",
              "      <td>0.0</td>\n",
              "      <td>0.0</td>\n",
              "      <td>0.0</td>\n",
              "      <td>0.0</td>\n",
              "      <td>0.0</td>\n",
              "      <td>0.0</td>\n",
              "      <td>0.0</td>\n",
              "      <td>0.0</td>\n",
              "      <td>0.0</td>\n",
              "      <td>0.0</td>\n",
              "      <td>0.0</td>\n",
              "      <td>199578.0</td>\n",
              "      <td>0.0</td>\n",
              "      <td>-11221.0</td>\n",
              "    </tr>\n",
              "    <tr>\n",
              "      <th>4</th>\n",
              "      <td>4120.0</td>\n",
              "      <td>40.0</td>\n",
              "      <td>16.0</td>\n",
              "      <td>18.0</td>\n",
              "      <td>6.6111</td>\n",
              "      <td>119.0</td>\n",
              "      <td>19.0</td>\n",
              "      <td>0.0</td>\n",
              "      <td>5/09/2018</td>\n",
              "      <td>7/08/2019</td>\n",
              "      <td>4.0</td>\n",
              "      <td>6.0</td>\n",
              "      <td>27.0</td>\n",
              "      <td>9.0</td>\n",
              "      <td>0.0</td>\n",
              "      <td>5/10/2018</td>\n",
              "      <td>7/03/2019</td>\n",
              "      <td>27/04/2010</td>\n",
              "      <td>3.0</td>\n",
              "      <td>9.0</td>\n",
              "      <td>15.0</td>\n",
              "      <td>2.0</td>\n",
              "      <td>1.0</td>\n",
              "      <td>0.0</td>\n",
              "      <td>3053.0</td>\n",
              "      <td>4155921.52</td>\n",
              "      <td>13.12</td>\n",
              "      <td>-35556.61</td>\n",
              "      <td>473330.05</td>\n",
              "      <td>1.49</td>\n",
              "      <td>0.0</td>\n",
              "      <td>95354.35</td>\n",
              "      <td>0.30</td>\n",
              "      <td>-9359.36</td>\n",
              "      <td>0.00</td>\n",
              "      <td>0.00</td>\n",
              "      <td>0.00</td>\n",
              "      <td>4155921.52</td>\n",
              "      <td>13.12</td>\n",
              "      <td>-35556.61</td>\n",
              "      <td>0.0</td>\n",
              "      <td>0.0</td>\n",
              "      <td>0.0</td>\n",
              "      <td>4155921.52</td>\n",
              "      <td>13.12</td>\n",
              "      <td>-35556.61</td>\n",
              "      <td>0.0</td>\n",
              "      <td>0.0</td>\n",
              "      <td>0.0</td>\n",
              "      <td>0.0</td>\n",
              "      <td>0.0</td>\n",
              "      <td>0.0</td>\n",
              "      <td>0.00</td>\n",
              "      <td>0.00</td>\n",
              "      <td>0.00</td>\n",
              "      <td>201908.0</td>\n",
              "      <td>473330.0</td>\n",
              "      <td>1.0</td>\n",
              "      <td>-4949.0</td>\n",
              "      <td>0.0</td>\n",
              "      <td>0.0</td>\n",
              "      <td>0.0</td>\n",
              "      <td>473330.0</td>\n",
              "      <td>1.0</td>\n",
              "      <td>-4949.0</td>\n",
              "      <td>0.0</td>\n",
              "      <td>0.0</td>\n",
              "      <td>0.0</td>\n",
              "      <td>473330.0</td>\n",
              "      <td>1.0</td>\n",
              "      <td>-4949.0</td>\n",
              "      <td>0.0</td>\n",
              "      <td>0.0</td>\n",
              "      <td>0.0</td>\n",
              "      <td>0.0</td>\n",
              "      <td>0.0</td>\n",
              "      <td>0.0</td>\n",
              "      <td>0.0</td>\n",
              "      <td>0.0</td>\n",
              "      <td>0.0</td>\n",
              "    </tr>\n",
              "  </tbody>\n",
              "</table>\n",
              "</div>"
            ],
            "text/plain": [
              "   Cliente  ...  Ultimo_Total_Net_Dscto_Clase_SegmentoPrecio_4\n",
              "0   4119.0  ...                                            0.0\n",
              "1    412.0  ...                                            0.0\n",
              "2   4680.0  ...                                            0.0\n",
              "3   4682.0  ...                                       -11221.0\n",
              "4   4120.0  ...                                            0.0\n",
              "\n",
              "[5 rows x 80 columns]"
            ]
          },
          "metadata": {
            "tags": []
          },
          "execution_count": 31
        }
      ]
    },
    {
      "cell_type": "code",
      "metadata": {
        "colab": {
          "base_uri": "https://localhost:8080/"
        },
        "id": "5azbcvWbnf53",
        "outputId": "15c41347-a75b-44d1-e1be-dd14554429f3"
      },
      "source": [
        "data.groupby('Total_Promo_Ejecutadas')['Cliente'].count()/len(data)"
      ],
      "execution_count": 33,
      "outputs": [
        {
          "output_type": "execute_result",
          "data": {
            "text/plain": [
              "Total_Promo_Ejecutadas\n",
              "0.0     0.752395\n",
              "1.0     0.083471\n",
              "2.0     0.045874\n",
              "3.0     0.031692\n",
              "4.0     0.022894\n",
              "5.0     0.016845\n",
              "6.0     0.010940\n",
              "7.0     0.008538\n",
              "8.0     0.006975\n",
              "9.0     0.005731\n",
              "10.0    0.004052\n",
              "11.0    0.002547\n",
              "12.0    0.001766\n",
              "13.0    0.001071\n",
              "14.0    0.000753\n",
              "15.0    0.000434\n",
              "16.0    0.000087\n",
              "17.0    0.000174\n",
              "18.0    0.000029\n",
              "Name: Cliente, dtype: float64"
            ]
          },
          "metadata": {
            "tags": []
          },
          "execution_count": 33
        }
      ]
    },
    {
      "cell_type": "code",
      "metadata": {
        "colab": {
          "base_uri": "https://localhost:8080/"
        },
        "id": "YLBsHIcNkaqX",
        "outputId": "137c17ce-14ae-4e39-dea9-34865d8bf987"
      },
      "source": [
        "df_actpromos.groupby('Marca')['CodigoDC'].count()"
      ],
      "execution_count": 34,
      "outputs": [
        {
          "output_type": "execute_result",
          "data": {
            "text/plain": [
              "Marca\n",
              "29     22659\n",
              "39    193960\n",
              "40    205818\n",
              "Name: CodigoDC, dtype: int64"
            ]
          },
          "metadata": {
            "tags": []
          },
          "execution_count": 34
        }
      ]
    },
    {
      "cell_type": "code",
      "metadata": {
        "colab": {
          "base_uri": "https://localhost:8080/"
        },
        "id": "Eur34hPekL9B",
        "outputId": "371fcfc2-4248-43bd-b3e4-ed8610d40034"
      },
      "source": [
        "df_Expromos.groupby('Marca')['CodigoDC'].count()"
      ],
      "execution_count": 35,
      "outputs": [
        {
          "output_type": "execute_result",
          "data": {
            "text/plain": [
              "Marca\n",
              "29      455\n",
              "39     3445\n",
              "40    23894\n",
              "Name: CodigoDC, dtype: int64"
            ]
          },
          "metadata": {
            "tags": []
          },
          "execution_count": 35
        }
      ]
    },
    {
      "cell_type": "code",
      "metadata": {
        "colab": {
          "base_uri": "https://localhost:8080/",
          "height": 111
        },
        "id": "0LZdpVzjkx2e",
        "outputId": "87a3ce9c-b863-43e0-887f-cf17d33cd37c"
      },
      "source": [
        "df_sales.groupby('Marca')['Cliente'].count()\n",
        "df_sales.head(2)"
      ],
      "execution_count": 37,
      "outputs": [
        {
          "output_type": "execute_result",
          "data": {
            "text/html": [
              "<div>\n",
              "<style scoped>\n",
              "    .dataframe tbody tr th:only-of-type {\n",
              "        vertical-align: middle;\n",
              "    }\n",
              "\n",
              "    .dataframe tbody tr th {\n",
              "        vertical-align: top;\n",
              "    }\n",
              "\n",
              "    .dataframe thead th {\n",
              "        text-align: right;\n",
              "    }\n",
              "</style>\n",
              "<table border=\"1\" class=\"dataframe\">\n",
              "  <thead>\n",
              "    <tr style=\"text-align: right;\">\n",
              "      <th></th>\n",
              "      <th>Cliente</th>\n",
              "      <th>Año</th>\n",
              "      <th>Mes</th>\n",
              "      <th>ClaseEnvase</th>\n",
              "      <th>SegmentoPrecio</th>\n",
              "      <th>Marca</th>\n",
              "      <th>Cupo</th>\n",
              "      <th>Nr</th>\n",
              "      <th>Hl</th>\n",
              "      <th>Dcto</th>\n",
              "    </tr>\n",
              "  </thead>\n",
              "  <tbody>\n",
              "    <tr>\n",
              "      <th>0</th>\n",
              "      <td>1</td>\n",
              "      <td>2018</td>\n",
              "      <td>1</td>\n",
              "      <td>2</td>\n",
              "      <td>2.0</td>\n",
              "      <td>44</td>\n",
              "      <td>10.0</td>\n",
              "      <td>6352.94</td>\n",
              "      <td>0.03</td>\n",
              "      <td>0.0</td>\n",
              "    </tr>\n",
              "    <tr>\n",
              "      <th>1</th>\n",
              "      <td>1</td>\n",
              "      <td>2018</td>\n",
              "      <td>1</td>\n",
              "      <td>2</td>\n",
              "      <td>4.0</td>\n",
              "      <td>18</td>\n",
              "      <td>16.0</td>\n",
              "      <td>99130.50</td>\n",
              "      <td>0.45</td>\n",
              "      <td>0.0</td>\n",
              "    </tr>\n",
              "  </tbody>\n",
              "</table>\n",
              "</div>"
            ],
            "text/plain": [
              "   Cliente   Año  Mes  ClaseEnvase  ...  Cupo        Nr    Hl  Dcto\n",
              "0        1  2018    1            2  ...  10.0   6352.94  0.03   0.0\n",
              "1        1  2018    1            2  ...  16.0  99130.50  0.45   0.0\n",
              "\n",
              "[2 rows x 10 columns]"
            ]
          },
          "metadata": {
            "tags": []
          },
          "execution_count": 37
        }
      ]
    },
    {
      "cell_type": "markdown",
      "metadata": {
        "id": "-wjmkbCmlHya"
      },
      "source": [
        "## Analisis Descriptivo\n",
        "Primero Crearemos un solo data set para comenzar a realizar el analisis descriptivo en busca de inshigt"
      ]
    },
    {
      "cell_type": "code",
      "metadata": {
        "id": "mXgiOfj6lIwT"
      },
      "source": [
        "\n",
        "print('Numero de registros en Sales data;  '+ str(df_sales.Cliente.count()))\n",
        "print('Numero de registros en Executed promos data;  '+ str(df_Expromos.CodigoDC.count()))\n",
        "print('Numero de registros en Client attributes data;  '+ str(df_clients.Cliente.count()))\n",
        "print('Numero de registros en Active promos data;  '+ str(df_actpromos.CodigoDC.count()))"
      ],
      "execution_count": null,
      "outputs": []
    },
    {
      "cell_type": "code",
      "metadata": {
        "id": "_e8j5YaOyhiC"
      },
      "source": [
        "df_actpromos.head(3)"
      ],
      "execution_count": null,
      "outputs": []
    },
    {
      "cell_type": "code",
      "metadata": {
        "id": "k4hAIFTKlRzj"
      },
      "source": [
        "#df_sales['IngresoNeto'] = round(df_sales['Nr'],2).apply(int)\n",
        "df_sales['IngresoNeto'] = df_sales['Nr']\n",
        "del df_sales['Nr']"
      ],
      "execution_count": null,
      "outputs": []
    },
    {
      "cell_type": "code",
      "metadata": {
        "id": "H35QSmCE0Jg_"
      },
      "source": [
        "df_sales[((df_sales['Cliente']==3213) & (df_sales['Mes']==10))].head(3)"
      ],
      "execution_count": null,
      "outputs": []
    },
    {
      "cell_type": "code",
      "metadata": {
        "id": "up_WLKU9yfxd"
      },
      "source": [
        "df_actpromos[df_actpromos['Cliente']==3213].head(3)"
      ],
      "execution_count": null,
      "outputs": []
    },
    {
      "cell_type": "code",
      "metadata": {
        "id": "T8gQ8FC_1vrp"
      },
      "source": [
        "df_Expromos[df_Expromos['Cliente']==3213]"
      ],
      "execution_count": null,
      "outputs": []
    },
    {
      "cell_type": "code",
      "metadata": {
        "id": "OgL4UZXWlt-7"
      },
      "source": [
        "df_sales.head(3)"
      ],
      "execution_count": null,
      "outputs": []
    },
    {
      "cell_type": "code",
      "metadata": {
        "id": "9zyK3P4KU6nz"
      },
      "source": [
        "df_sales.groupby('ClaseEnvase')['Cliente'].count()"
      ],
      "execution_count": null,
      "outputs": []
    },
    {
      "cell_type": "code",
      "metadata": {
        "id": "ysS2yjquVVAT"
      },
      "source": [
        "#Generamos Valores unicos\n",
        "df_sales.groupby('ClaseEnvase')['Cliente'].nunique()"
      ],
      "execution_count": null,
      "outputs": []
    },
    {
      "cell_type": "markdown",
      "metadata": {
        "id": "Pwe3HEpfVGLy"
      },
      "source": [
        "Como se observa solo 5 clientes han comprado"
      ]
    },
    {
      "cell_type": "code",
      "metadata": {
        "id": "a6TfONOSRJ2i"
      },
      "source": [
        "pd.crosstab(df_sales['ClaseEnvase'], df_sales['SegmentoPrecio'])"
      ],
      "execution_count": null,
      "outputs": []
    },
    {
      "cell_type": "code",
      "metadata": {
        "id": "I4r5qmoIQgVZ"
      },
      "source": [
        "## Tabla Cruzada\n",
        "pd.crosstab(df_sales['Cupo'], df_sales['Marca'])"
      ],
      "execution_count": null,
      "outputs": []
    },
    {
      "cell_type": "code",
      "metadata": {
        "id": "l7LkoOpYpHbg"
      },
      "source": [
        "df_sales.groupby(['Año','Mes'])['IngresoNeto'].mean()"
      ],
      "execution_count": null,
      "outputs": []
    },
    {
      "cell_type": "code",
      "metadata": {
        "id": "NW3b9qN9qnK2"
      },
      "source": [
        "df_sales.describe().transpose()"
      ],
      "execution_count": null,
      "outputs": []
    },
    {
      "cell_type": "code",
      "metadata": {
        "id": "XOhpvzCNp5l-"
      },
      "source": [
        "df_clients.isna().sum()"
      ],
      "execution_count": null,
      "outputs": []
    },
    {
      "cell_type": "code",
      "metadata": {
        "id": "adllZNuNpxY-"
      },
      "source": [
        "df_Expromos.isna().sum()"
      ],
      "execution_count": null,
      "outputs": []
    },
    {
      "cell_type": "code",
      "metadata": {
        "id": "84wh2QVwoI6R"
      },
      "source": [
        "df_sales.describe()"
      ],
      "execution_count": null,
      "outputs": []
    },
    {
      "cell_type": "markdown",
      "metadata": {
        "id": "ratCtzrP3ztw"
      },
      "source": [
        "## Primer model \n",
        "Generamos la primera version del modelo \n"
      ]
    },
    {
      "cell_type": "code",
      "metadata": {
        "id": "p6AqrG7h5IeC"
      },
      "source": [
        "result = pd.concat([test, data], axis=1, sort=False)\n",
        "result = pd.merge(test, data, how='left', on=['Cliente', 'Marca','Cupo'])"
      ],
      "execution_count": 38,
      "outputs": []
    },
    {
      "cell_type": "code",
      "metadata": {
        "id": "zL2msHMn-6yH",
        "outputId": "0cc391ad-74f3-45ca-bab8-670c47017dd3",
        "colab": {
          "base_uri": "https://localhost:8080/",
          "height": 191
        }
      },
      "source": [
        "result.head(3)"
      ],
      "execution_count": 39,
      "outputs": [
        {
          "output_type": "execute_result",
          "data": {
            "text/html": [
              "<div>\n",
              "<style scoped>\n",
              "    .dataframe tbody tr th:only-of-type {\n",
              "        vertical-align: middle;\n",
              "    }\n",
              "\n",
              "    .dataframe tbody tr th {\n",
              "        vertical-align: top;\n",
              "    }\n",
              "\n",
              "    .dataframe thead th {\n",
              "        text-align: right;\n",
              "    }\n",
              "</style>\n",
              "<table border=\"1\" class=\"dataframe\">\n",
              "  <thead>\n",
              "    <tr style=\"text-align: right;\">\n",
              "      <th></th>\n",
              "      <th>Cliente</th>\n",
              "      <th>Marca</th>\n",
              "      <th>Cupo</th>\n",
              "      <th>Ejecuto_Promo</th>\n",
              "      <th>Total_Promociones</th>\n",
              "      <th>Prom_Duracion_dd</th>\n",
              "      <th>Total_Duracion_dd</th>\n",
              "      <th>Maxima_Duracion_dd</th>\n",
              "      <th>Minima_Duracion_dd</th>\n",
              "      <th>MinFecha_Desde</th>\n",
              "      <th>MaxFecha_Desde</th>\n",
              "      <th>Total_Promo_Ejecutadas</th>\n",
              "      <th>Prom_Duracion_Ejecutadas_dd</th>\n",
              "      <th>Total_Duracion_Ejecutadas_dd</th>\n",
              "      <th>Maxima_Duracion_Ejecutadas_dd</th>\n",
              "      <th>Minima_Duracion_Ejecutadas_dd</th>\n",
              "      <th>MinFecha_Ejecutadas_Desde</th>\n",
              "      <th>MaxFecha_Ejecutadas_Desde</th>\n",
              "      <th>FechaAltaCliente</th>\n",
              "      <th>Region</th>\n",
              "      <th>Gerencia</th>\n",
              "      <th>SubCanal</th>\n",
              "      <th>TipoPoblacion</th>\n",
              "      <th>Estrato</th>\n",
              "      <th>EF</th>\n",
              "      <th>Antiguedad_Cliente_EmpezoPromo_dd</th>\n",
              "      <th>Total_Net_Revenue</th>\n",
              "      <th>Total_Net_Volumen</th>\n",
              "      <th>Total_Dcto</th>\n",
              "      <th>Max_Net_Revenue</th>\n",
              "      <th>Max_Net_Volumen</th>\n",
              "      <th>Max_Dcto</th>\n",
              "      <th>Min_Net_Revenue</th>\n",
              "      <th>Min_Net_Volumen</th>\n",
              "      <th>Min_Dcto</th>\n",
              "      <th>Total_Net_Revenue_Clase_Envase_1</th>\n",
              "      <th>Total_Net_Volumen_Clase_Envase_1</th>\n",
              "      <th>Total_Net_Dscto_Clase_Envase_1</th>\n",
              "      <th>Total_Net_Revenue_Clase_Envase_2</th>\n",
              "      <th>Total_Net_Volumen_Clase_Envase_2</th>\n",
              "      <th>...</th>\n",
              "      <th>Total_Net_Revenue_Clase_Envase_3</th>\n",
              "      <th>Total_Net_Volumen_Clase_Envase_3</th>\n",
              "      <th>Total_Net_Dscto_Clase_Envase_3</th>\n",
              "      <th>Total_Net_Revenue_Clase_SegmentoPrecio_1</th>\n",
              "      <th>Total_Net_Volumen_Clase_SegmentoPrecio_1</th>\n",
              "      <th>Total_Net_Dscto_Clase_SegmentoPrecio_1</th>\n",
              "      <th>Total_Net_Revenue_Clase_SegmentoPrecio_2</th>\n",
              "      <th>Total_Net_Volumen_Clase_SegmentoPrecio_2</th>\n",
              "      <th>Total_Net_Dscto_Clase_SegmentoPrecio_2</th>\n",
              "      <th>Total_Net_Revenue_Clase_SegmentoPrecio_3</th>\n",
              "      <th>Total_Net_Volumen_Clase_SegmentoPrecio_3</th>\n",
              "      <th>Total_Net_Dscto_Clase_SegmentoPrecio_3</th>\n",
              "      <th>Total_Net_Revenue_Clase_SegmentoPrecio_4</th>\n",
              "      <th>Total_Net_Volumen_Clase_SegmentoPrecio_4</th>\n",
              "      <th>Total_Net_Dscto_Clase_SegmentoPrecio_4</th>\n",
              "      <th>UltimoAñoMesVenta</th>\n",
              "      <th>Ultimo_Total_Net_Revenue</th>\n",
              "      <th>Ultimo_Total_Net_Volumen</th>\n",
              "      <th>Ultimo_Total_Dcto</th>\n",
              "      <th>Ultimo_Total_Net_Revenue_Clase_Envase_1</th>\n",
              "      <th>Ultimo_Total_Net_Volumen_Clase_Envase_1</th>\n",
              "      <th>Ultimo_Total_Net_Dscto_Clase_Envase_1</th>\n",
              "      <th>Ultimo_Total_Net_Revenue_Clase_Envase_2</th>\n",
              "      <th>Ultimo_Total_Net_Volumen_Clase_Envase_2</th>\n",
              "      <th>Ultimo_Total_Net_Dscto_Clase_Envase_2</th>\n",
              "      <th>Ultimo_Total_Net_Revenue_Clase_Envase_3</th>\n",
              "      <th>Ultimo_Total_Net_Volumen_Clase_Envase_3</th>\n",
              "      <th>Ultimo_Total_Net_Dscto_Clase_Envase_3</th>\n",
              "      <th>Ultimo_Total_Net_Revenue_Clase_SegmentoPrecio_1</th>\n",
              "      <th>Ultimo_Total_Net_Volumen_Clase_SegmentoPrecio_1</th>\n",
              "      <th>Ultimo_Total_Net_Dscto_Clase_SegmentoPrecio_1</th>\n",
              "      <th>Ultimo_Total_Net_Revenue_Clase_SegmentoPrecio_2</th>\n",
              "      <th>Ultimo_Total_Net_Volumen_Clase_SegmentoPrecio_2</th>\n",
              "      <th>Ultimo_Total_Net_Dscto_Clase_SegmentoPrecio_2</th>\n",
              "      <th>Ultimo_Total_Net_Revenue_Clase_SegmentoPrecio_3</th>\n",
              "      <th>Ultimo_Total_Net_Volumen_Clase_SegmentoPrecio_3</th>\n",
              "      <th>Ultimo_Total_Net_Dscto_Clase_SegmentoPrecio_3</th>\n",
              "      <th>Ultimo_Total_Net_Revenue_Clase_SegmentoPrecio_4</th>\n",
              "      <th>Ultimo_Total_Net_Volumen_Clase_SegmentoPrecio_4</th>\n",
              "      <th>Ultimo_Total_Net_Dscto_Clase_SegmentoPrecio_4</th>\n",
              "    </tr>\n",
              "  </thead>\n",
              "  <tbody>\n",
              "    <tr>\n",
              "      <th>0</th>\n",
              "      <td>10</td>\n",
              "      <td>40</td>\n",
              "      <td>16</td>\n",
              "      <td>NaN</td>\n",
              "      <td>19.0</td>\n",
              "      <td>15.8947</td>\n",
              "      <td>302.0</td>\n",
              "      <td>160.0</td>\n",
              "      <td>0.0</td>\n",
              "      <td>5/09/2018</td>\n",
              "      <td>26/08/2019</td>\n",
              "      <td>2.0</td>\n",
              "      <td>86.0</td>\n",
              "      <td>173.0</td>\n",
              "      <td>160.0</td>\n",
              "      <td>0.0</td>\n",
              "      <td>6/05/2019</td>\n",
              "      <td>7/08/2019</td>\n",
              "      <td>3/03/2009</td>\n",
              "      <td>4.0</td>\n",
              "      <td>21.0</td>\n",
              "      <td>15.0</td>\n",
              "      <td>2.0</td>\n",
              "      <td>2.0</td>\n",
              "      <td>0.0</td>\n",
              "      <td>3473.0</td>\n",
              "      <td>76475.72</td>\n",
              "      <td>0.36</td>\n",
              "      <td>-38501.64</td>\n",
              "      <td>45181.63</td>\n",
              "      <td>0.21</td>\n",
              "      <td>-6253.02</td>\n",
              "      <td>12909.04</td>\n",
              "      <td>0.06</td>\n",
              "      <td>-21885.57</td>\n",
              "      <td>0.0</td>\n",
              "      <td>0.00</td>\n",
              "      <td>0.00</td>\n",
              "      <td>76475.72</td>\n",
              "      <td>0.36</td>\n",
              "      <td>...</td>\n",
              "      <td>0.0</td>\n",
              "      <td>0.0</td>\n",
              "      <td>0.0</td>\n",
              "      <td>76475.72</td>\n",
              "      <td>0.36</td>\n",
              "      <td>-38501.64</td>\n",
              "      <td>0.0</td>\n",
              "      <td>0.0</td>\n",
              "      <td>0.0</td>\n",
              "      <td>0.0</td>\n",
              "      <td>0.0</td>\n",
              "      <td>0.0</td>\n",
              "      <td>0.0</td>\n",
              "      <td>0.00</td>\n",
              "      <td>0.00</td>\n",
              "      <td>201908.0</td>\n",
              "      <td>18385.0</td>\n",
              "      <td>0.0</td>\n",
              "      <td>-10363.0</td>\n",
              "      <td>0.0</td>\n",
              "      <td>0.0</td>\n",
              "      <td>0.0</td>\n",
              "      <td>18385.0</td>\n",
              "      <td>0.0</td>\n",
              "      <td>-10363.0</td>\n",
              "      <td>0.0</td>\n",
              "      <td>0.0</td>\n",
              "      <td>0.0</td>\n",
              "      <td>18385.0</td>\n",
              "      <td>0.0</td>\n",
              "      <td>-10363.0</td>\n",
              "      <td>0.0</td>\n",
              "      <td>0.0</td>\n",
              "      <td>0.0</td>\n",
              "      <td>0.0</td>\n",
              "      <td>0.0</td>\n",
              "      <td>0.0</td>\n",
              "      <td>0.0</td>\n",
              "      <td>0.0</td>\n",
              "      <td>0.0</td>\n",
              "    </tr>\n",
              "    <tr>\n",
              "      <th>1</th>\n",
              "      <td>17</td>\n",
              "      <td>29</td>\n",
              "      <td>9</td>\n",
              "      <td>NaN</td>\n",
              "      <td>3.0</td>\n",
              "      <td>7.0000</td>\n",
              "      <td>21.0</td>\n",
              "      <td>11.0</td>\n",
              "      <td>3.0</td>\n",
              "      <td>13/04/2019</td>\n",
              "      <td>18/08/2019</td>\n",
              "      <td>0.0</td>\n",
              "      <td>0.0</td>\n",
              "      <td>0.0</td>\n",
              "      <td>0.0</td>\n",
              "      <td>0.0</td>\n",
              "      <td>NaN</td>\n",
              "      <td>NaN</td>\n",
              "      <td>3/03/2009</td>\n",
              "      <td>4.0</td>\n",
              "      <td>21.0</td>\n",
              "      <td>15.0</td>\n",
              "      <td>2.0</td>\n",
              "      <td>5.0</td>\n",
              "      <td>1.0</td>\n",
              "      <td>3693.0</td>\n",
              "      <td>528982.70</td>\n",
              "      <td>0.78</td>\n",
              "      <td>-36879.24</td>\n",
              "      <td>138715.43</td>\n",
              "      <td>0.21</td>\n",
              "      <td>0.00</td>\n",
              "      <td>22183.29</td>\n",
              "      <td>0.03</td>\n",
              "      <td>-16652.52</td>\n",
              "      <td>528982.7</td>\n",
              "      <td>0.78</td>\n",
              "      <td>-36879.24</td>\n",
              "      <td>0.00</td>\n",
              "      <td>0.00</td>\n",
              "      <td>...</td>\n",
              "      <td>0.0</td>\n",
              "      <td>0.0</td>\n",
              "      <td>0.0</td>\n",
              "      <td>0.00</td>\n",
              "      <td>0.00</td>\n",
              "      <td>0.00</td>\n",
              "      <td>0.0</td>\n",
              "      <td>0.0</td>\n",
              "      <td>0.0</td>\n",
              "      <td>0.0</td>\n",
              "      <td>0.0</td>\n",
              "      <td>0.0</td>\n",
              "      <td>528982.7</td>\n",
              "      <td>0.78</td>\n",
              "      <td>-36879.24</td>\n",
              "      <td>201908.0</td>\n",
              "      <td>72811.0</td>\n",
              "      <td>0.0</td>\n",
              "      <td>-4855.0</td>\n",
              "      <td>72811.0</td>\n",
              "      <td>0.0</td>\n",
              "      <td>-4855.0</td>\n",
              "      <td>0.0</td>\n",
              "      <td>0.0</td>\n",
              "      <td>0.0</td>\n",
              "      <td>0.0</td>\n",
              "      <td>0.0</td>\n",
              "      <td>0.0</td>\n",
              "      <td>0.0</td>\n",
              "      <td>0.0</td>\n",
              "      <td>0.0</td>\n",
              "      <td>0.0</td>\n",
              "      <td>0.0</td>\n",
              "      <td>0.0</td>\n",
              "      <td>0.0</td>\n",
              "      <td>0.0</td>\n",
              "      <td>0.0</td>\n",
              "      <td>72811.0</td>\n",
              "      <td>0.0</td>\n",
              "      <td>-4855.0</td>\n",
              "    </tr>\n",
              "    <tr>\n",
              "      <th>2</th>\n",
              "      <td>37</td>\n",
              "      <td>29</td>\n",
              "      <td>9</td>\n",
              "      <td>NaN</td>\n",
              "      <td>1.0</td>\n",
              "      <td>7.0000</td>\n",
              "      <td>7.0</td>\n",
              "      <td>7.0</td>\n",
              "      <td>7.0</td>\n",
              "      <td>18/08/2019</td>\n",
              "      <td>18/08/2019</td>\n",
              "      <td>0.0</td>\n",
              "      <td>0.0</td>\n",
              "      <td>0.0</td>\n",
              "      <td>0.0</td>\n",
              "      <td>0.0</td>\n",
              "      <td>NaN</td>\n",
              "      <td>NaN</td>\n",
              "      <td>3/03/2009</td>\n",
              "      <td>4.0</td>\n",
              "      <td>21.0</td>\n",
              "      <td>16.0</td>\n",
              "      <td>2.0</td>\n",
              "      <td>3.0</td>\n",
              "      <td>1.0</td>\n",
              "      <td>3820.0</td>\n",
              "      <td>NaN</td>\n",
              "      <td>NaN</td>\n",
              "      <td>NaN</td>\n",
              "      <td>NaN</td>\n",
              "      <td>NaN</td>\n",
              "      <td>NaN</td>\n",
              "      <td>NaN</td>\n",
              "      <td>NaN</td>\n",
              "      <td>NaN</td>\n",
              "      <td>NaN</td>\n",
              "      <td>NaN</td>\n",
              "      <td>NaN</td>\n",
              "      <td>NaN</td>\n",
              "      <td>NaN</td>\n",
              "      <td>...</td>\n",
              "      <td>NaN</td>\n",
              "      <td>NaN</td>\n",
              "      <td>NaN</td>\n",
              "      <td>NaN</td>\n",
              "      <td>NaN</td>\n",
              "      <td>NaN</td>\n",
              "      <td>NaN</td>\n",
              "      <td>NaN</td>\n",
              "      <td>NaN</td>\n",
              "      <td>NaN</td>\n",
              "      <td>NaN</td>\n",
              "      <td>NaN</td>\n",
              "      <td>NaN</td>\n",
              "      <td>NaN</td>\n",
              "      <td>NaN</td>\n",
              "      <td>NaN</td>\n",
              "      <td>NaN</td>\n",
              "      <td>NaN</td>\n",
              "      <td>NaN</td>\n",
              "      <td>NaN</td>\n",
              "      <td>NaN</td>\n",
              "      <td>NaN</td>\n",
              "      <td>NaN</td>\n",
              "      <td>NaN</td>\n",
              "      <td>NaN</td>\n",
              "      <td>NaN</td>\n",
              "      <td>NaN</td>\n",
              "      <td>NaN</td>\n",
              "      <td>NaN</td>\n",
              "      <td>NaN</td>\n",
              "      <td>NaN</td>\n",
              "      <td>NaN</td>\n",
              "      <td>NaN</td>\n",
              "      <td>NaN</td>\n",
              "      <td>NaN</td>\n",
              "      <td>NaN</td>\n",
              "      <td>NaN</td>\n",
              "      <td>NaN</td>\n",
              "      <td>NaN</td>\n",
              "      <td>NaN</td>\n",
              "    </tr>\n",
              "  </tbody>\n",
              "</table>\n",
              "<p>3 rows × 81 columns</p>\n",
              "</div>"
            ],
            "text/plain": [
              "   Cliente  ...  Ultimo_Total_Net_Dscto_Clase_SegmentoPrecio_4\n",
              "0       10  ...                                            0.0\n",
              "1       17  ...                                        -4855.0\n",
              "2       37  ...                                            NaN\n",
              "\n",
              "[3 rows x 81 columns]"
            ]
          },
          "metadata": {
            "tags": []
          },
          "execution_count": 39
        }
      ]
    },
    {
      "cell_type": "code",
      "metadata": {
        "id": "Y1q--n39L6in"
      },
      "source": [
        "fecha_columnas=['MinFecha_Desde','MaxFecha_Desde','FechaAltaCliente']"
      ],
      "execution_count": 44,
      "outputs": []
    },
    {
      "cell_type": "code",
      "metadata": {
        "colab": {
          "base_uri": "https://localhost:8080/"
        },
        "id": "wdIGsMlNA4ir",
        "outputId": "6456b265-7a6e-4eff-e16b-203d53cd2170"
      },
      "source": [
        "###Damos Formato de fecha para poder generar otras variables\n",
        "for c in fecha_columnas:\n",
        "    print(str(c))\n",
        "    data[str(c)] = pd.to_datetime(data[str(c)])\n",
        "    data[str(c)+'_year'] = data[str(c)].dt.year \n",
        "    data[str(c)+'_month'] = data[str(c)].dt.month\n",
        "    data[str(c)+'_day'] = data[str(c)].dt.day  "
      ],
      "execution_count": 45,
      "outputs": [
        {
          "output_type": "stream",
          "text": [
            "MinFecha_Desde\n",
            "MaxFecha_Desde\n",
            "FechaAltaCliente\n"
          ],
          "name": "stdout"
        }
      ]
    },
    {
      "cell_type": "code",
      "metadata": {
        "id": "qZmeL4fCBfiI",
        "outputId": "51673c50-79f6-4285-f183-a9492ad1619b",
        "colab": {
          "base_uri": "https://localhost:8080/",
          "height": 191
        }
      },
      "source": [
        "data.head(3)"
      ],
      "execution_count": 53,
      "outputs": [
        {
          "output_type": "execute_result",
          "data": {
            "text/html": [
              "<div>\n",
              "<style scoped>\n",
              "    .dataframe tbody tr th:only-of-type {\n",
              "        vertical-align: middle;\n",
              "    }\n",
              "\n",
              "    .dataframe tbody tr th {\n",
              "        vertical-align: top;\n",
              "    }\n",
              "\n",
              "    .dataframe thead th {\n",
              "        text-align: right;\n",
              "    }\n",
              "</style>\n",
              "<table border=\"1\" class=\"dataframe\">\n",
              "  <thead>\n",
              "    <tr style=\"text-align: right;\">\n",
              "      <th></th>\n",
              "      <th>Cliente</th>\n",
              "      <th>Marca</th>\n",
              "      <th>Cupo</th>\n",
              "      <th>Total_Promociones</th>\n",
              "      <th>Prom_Duracion_dd</th>\n",
              "      <th>Total_Duracion_dd</th>\n",
              "      <th>Maxima_Duracion_dd</th>\n",
              "      <th>Minima_Duracion_dd</th>\n",
              "      <th>MinFecha_Desde</th>\n",
              "      <th>MaxFecha_Desde</th>\n",
              "      <th>Total_Promo_Ejecutadas</th>\n",
              "      <th>Prom_Duracion_Ejecutadas_dd</th>\n",
              "      <th>Total_Duracion_Ejecutadas_dd</th>\n",
              "      <th>Maxima_Duracion_Ejecutadas_dd</th>\n",
              "      <th>Minima_Duracion_Ejecutadas_dd</th>\n",
              "      <th>MinFecha_Ejecutadas_Desde</th>\n",
              "      <th>MaxFecha_Ejecutadas_Desde</th>\n",
              "      <th>FechaAltaCliente</th>\n",
              "      <th>Region</th>\n",
              "      <th>Gerencia</th>\n",
              "      <th>SubCanal</th>\n",
              "      <th>TipoPoblacion</th>\n",
              "      <th>Estrato</th>\n",
              "      <th>EF</th>\n",
              "      <th>Antiguedad_Cliente_EmpezoPromo_dd</th>\n",
              "      <th>Total_Net_Revenue</th>\n",
              "      <th>Total_Net_Volumen</th>\n",
              "      <th>Total_Dcto</th>\n",
              "      <th>Max_Net_Revenue</th>\n",
              "      <th>Max_Net_Volumen</th>\n",
              "      <th>Max_Dcto</th>\n",
              "      <th>Min_Net_Revenue</th>\n",
              "      <th>Min_Net_Volumen</th>\n",
              "      <th>Min_Dcto</th>\n",
              "      <th>Total_Net_Revenue_Clase_Envase_1</th>\n",
              "      <th>Total_Net_Volumen_Clase_Envase_1</th>\n",
              "      <th>Total_Net_Dscto_Clase_Envase_1</th>\n",
              "      <th>Total_Net_Revenue_Clase_Envase_2</th>\n",
              "      <th>Total_Net_Volumen_Clase_Envase_2</th>\n",
              "      <th>Total_Net_Dscto_Clase_Envase_2</th>\n",
              "      <th>...</th>\n",
              "      <th>Total_Net_Volumen_Clase_SegmentoPrecio_3</th>\n",
              "      <th>Total_Net_Dscto_Clase_SegmentoPrecio_3</th>\n",
              "      <th>Total_Net_Revenue_Clase_SegmentoPrecio_4</th>\n",
              "      <th>Total_Net_Volumen_Clase_SegmentoPrecio_4</th>\n",
              "      <th>Total_Net_Dscto_Clase_SegmentoPrecio_4</th>\n",
              "      <th>UltimoAñoMesVenta</th>\n",
              "      <th>Ultimo_Total_Net_Revenue</th>\n",
              "      <th>Ultimo_Total_Net_Volumen</th>\n",
              "      <th>Ultimo_Total_Dcto</th>\n",
              "      <th>Ultimo_Total_Net_Revenue_Clase_Envase_1</th>\n",
              "      <th>Ultimo_Total_Net_Volumen_Clase_Envase_1</th>\n",
              "      <th>Ultimo_Total_Net_Dscto_Clase_Envase_1</th>\n",
              "      <th>Ultimo_Total_Net_Revenue_Clase_Envase_2</th>\n",
              "      <th>Ultimo_Total_Net_Volumen_Clase_Envase_2</th>\n",
              "      <th>Ultimo_Total_Net_Dscto_Clase_Envase_2</th>\n",
              "      <th>Ultimo_Total_Net_Revenue_Clase_Envase_3</th>\n",
              "      <th>Ultimo_Total_Net_Volumen_Clase_Envase_3</th>\n",
              "      <th>Ultimo_Total_Net_Dscto_Clase_Envase_3</th>\n",
              "      <th>Ultimo_Total_Net_Revenue_Clase_SegmentoPrecio_1</th>\n",
              "      <th>Ultimo_Total_Net_Volumen_Clase_SegmentoPrecio_1</th>\n",
              "      <th>Ultimo_Total_Net_Dscto_Clase_SegmentoPrecio_1</th>\n",
              "      <th>Ultimo_Total_Net_Revenue_Clase_SegmentoPrecio_2</th>\n",
              "      <th>Ultimo_Total_Net_Volumen_Clase_SegmentoPrecio_2</th>\n",
              "      <th>Ultimo_Total_Net_Dscto_Clase_SegmentoPrecio_2</th>\n",
              "      <th>Ultimo_Total_Net_Revenue_Clase_SegmentoPrecio_3</th>\n",
              "      <th>Ultimo_Total_Net_Volumen_Clase_SegmentoPrecio_3</th>\n",
              "      <th>Ultimo_Total_Net_Dscto_Clase_SegmentoPrecio_3</th>\n",
              "      <th>Ultimo_Total_Net_Revenue_Clase_SegmentoPrecio_4</th>\n",
              "      <th>Ultimo_Total_Net_Volumen_Clase_SegmentoPrecio_4</th>\n",
              "      <th>Ultimo_Total_Net_Dscto_Clase_SegmentoPrecio_4</th>\n",
              "      <th>MinFecha_Desde_year</th>\n",
              "      <th>MinFecha_Desde_month</th>\n",
              "      <th>MinFecha_Desde_day</th>\n",
              "      <th>MaxFecha_Desde_year</th>\n",
              "      <th>MaxFecha_Desde_month</th>\n",
              "      <th>MaxFecha_Desde_day</th>\n",
              "      <th>FechaAltaCliente_year</th>\n",
              "      <th>FechaAltaCliente_month</th>\n",
              "      <th>FechaAltaCliente_day</th>\n",
              "      <th>Target</th>\n",
              "    </tr>\n",
              "  </thead>\n",
              "  <tbody>\n",
              "    <tr>\n",
              "      <th>0</th>\n",
              "      <td>4119.0</td>\n",
              "      <td>40.0</td>\n",
              "      <td>16.0</td>\n",
              "      <td>20.0</td>\n",
              "      <td>7.5500</td>\n",
              "      <td>151.0</td>\n",
              "      <td>20.0</td>\n",
              "      <td>0.0</td>\n",
              "      <td>2018-08-31</td>\n",
              "      <td>2019-07-08</td>\n",
              "      <td>8.0</td>\n",
              "      <td>8.0</td>\n",
              "      <td>65.0</td>\n",
              "      <td>20.0</td>\n",
              "      <td>0.0</td>\n",
              "      <td>31/08/2018</td>\n",
              "      <td>11/07/2019</td>\n",
              "      <td>2010-04-27</td>\n",
              "      <td>3.0</td>\n",
              "      <td>9.0</td>\n",
              "      <td>16.0</td>\n",
              "      <td>2.0</td>\n",
              "      <td>2.0</td>\n",
              "      <td>1.0</td>\n",
              "      <td>3048.0</td>\n",
              "      <td>5679835.00</td>\n",
              "      <td>17.85</td>\n",
              "      <td>-147141.99</td>\n",
              "      <td>450746.31</td>\n",
              "      <td>1.40</td>\n",
              "      <td>0.0</td>\n",
              "      <td>39062.94</td>\n",
              "      <td>0.12</td>\n",
              "      <td>-47879.46</td>\n",
              "      <td>0.00</td>\n",
              "      <td>0.00</td>\n",
              "      <td>0.00</td>\n",
              "      <td>5679835.00</td>\n",
              "      <td>17.85</td>\n",
              "      <td>-147141.99</td>\n",
              "      <td>...</td>\n",
              "      <td>0.0</td>\n",
              "      <td>0.0</td>\n",
              "      <td>0.00</td>\n",
              "      <td>0.00</td>\n",
              "      <td>0.00</td>\n",
              "      <td>201908.0</td>\n",
              "      <td>39063.0</td>\n",
              "      <td>0.0</td>\n",
              "      <td>0.0</td>\n",
              "      <td>0.0</td>\n",
              "      <td>0.0</td>\n",
              "      <td>0.0</td>\n",
              "      <td>39063.0</td>\n",
              "      <td>0.0</td>\n",
              "      <td>0.0</td>\n",
              "      <td>0.0</td>\n",
              "      <td>0.0</td>\n",
              "      <td>0.0</td>\n",
              "      <td>39063.0</td>\n",
              "      <td>0.0</td>\n",
              "      <td>0.0</td>\n",
              "      <td>0.0</td>\n",
              "      <td>0.0</td>\n",
              "      <td>0.0</td>\n",
              "      <td>0.0</td>\n",
              "      <td>0.0</td>\n",
              "      <td>0.0</td>\n",
              "      <td>0.0</td>\n",
              "      <td>0.0</td>\n",
              "      <td>0.0</td>\n",
              "      <td>2018.0</td>\n",
              "      <td>8.0</td>\n",
              "      <td>31.0</td>\n",
              "      <td>2019.0</td>\n",
              "      <td>7.0</td>\n",
              "      <td>8.0</td>\n",
              "      <td>2010.0</td>\n",
              "      <td>4.0</td>\n",
              "      <td>27.0</td>\n",
              "      <td>1</td>\n",
              "    </tr>\n",
              "    <tr>\n",
              "      <th>1</th>\n",
              "      <td>412.0</td>\n",
              "      <td>29.0</td>\n",
              "      <td>9.0</td>\n",
              "      <td>2.0</td>\n",
              "      <td>7.0000</td>\n",
              "      <td>14.0</td>\n",
              "      <td>11.0</td>\n",
              "      <td>3.0</td>\n",
              "      <td>2018-11-22</td>\n",
              "      <td>2019-04-13</td>\n",
              "      <td>0.0</td>\n",
              "      <td>0.0</td>\n",
              "      <td>0.0</td>\n",
              "      <td>0.0</td>\n",
              "      <td>0.0</td>\n",
              "      <td>NaN</td>\n",
              "      <td>NaN</td>\n",
              "      <td>2009-04-08</td>\n",
              "      <td>3.0</td>\n",
              "      <td>32.0</td>\n",
              "      <td>15.0</td>\n",
              "      <td>1.0</td>\n",
              "      <td>2.0</td>\n",
              "      <td>0.0</td>\n",
              "      <td>3397.0</td>\n",
              "      <td>72454.48</td>\n",
              "      <td>0.11</td>\n",
              "      <td>-2200.71</td>\n",
              "      <td>33752.85</td>\n",
              "      <td>0.05</td>\n",
              "      <td>0.0</td>\n",
              "      <td>2772.91</td>\n",
              "      <td>0.00</td>\n",
              "      <td>-2200.71</td>\n",
              "      <td>72454.48</td>\n",
              "      <td>0.11</td>\n",
              "      <td>-2200.71</td>\n",
              "      <td>0.00</td>\n",
              "      <td>0.00</td>\n",
              "      <td>0.00</td>\n",
              "      <td>...</td>\n",
              "      <td>0.0</td>\n",
              "      <td>0.0</td>\n",
              "      <td>72454.48</td>\n",
              "      <td>0.11</td>\n",
              "      <td>-2200.71</td>\n",
              "      <td>201908.0</td>\n",
              "      <td>2773.0</td>\n",
              "      <td>0.0</td>\n",
              "      <td>0.0</td>\n",
              "      <td>2773.0</td>\n",
              "      <td>0.0</td>\n",
              "      <td>0.0</td>\n",
              "      <td>0.0</td>\n",
              "      <td>0.0</td>\n",
              "      <td>0.0</td>\n",
              "      <td>0.0</td>\n",
              "      <td>0.0</td>\n",
              "      <td>0.0</td>\n",
              "      <td>0.0</td>\n",
              "      <td>0.0</td>\n",
              "      <td>0.0</td>\n",
              "      <td>0.0</td>\n",
              "      <td>0.0</td>\n",
              "      <td>0.0</td>\n",
              "      <td>0.0</td>\n",
              "      <td>0.0</td>\n",
              "      <td>0.0</td>\n",
              "      <td>2773.0</td>\n",
              "      <td>0.0</td>\n",
              "      <td>0.0</td>\n",
              "      <td>2018.0</td>\n",
              "      <td>11.0</td>\n",
              "      <td>22.0</td>\n",
              "      <td>2019.0</td>\n",
              "      <td>4.0</td>\n",
              "      <td>13.0</td>\n",
              "      <td>2009.0</td>\n",
              "      <td>4.0</td>\n",
              "      <td>8.0</td>\n",
              "      <td>0</td>\n",
              "    </tr>\n",
              "    <tr>\n",
              "      <th>2</th>\n",
              "      <td>4680.0</td>\n",
              "      <td>40.0</td>\n",
              "      <td>16.0</td>\n",
              "      <td>7.0</td>\n",
              "      <td>5.7142</td>\n",
              "      <td>40.0</td>\n",
              "      <td>11.0</td>\n",
              "      <td>0.0</td>\n",
              "      <td>2018-05-09</td>\n",
              "      <td>2018-07-10</td>\n",
              "      <td>0.0</td>\n",
              "      <td>0.0</td>\n",
              "      <td>0.0</td>\n",
              "      <td>0.0</td>\n",
              "      <td>0.0</td>\n",
              "      <td>NaN</td>\n",
              "      <td>NaN</td>\n",
              "      <td>2010-08-07</td>\n",
              "      <td>5.0</td>\n",
              "      <td>12.0</td>\n",
              "      <td>12.0</td>\n",
              "      <td>1.0</td>\n",
              "      <td>2.0</td>\n",
              "      <td>0.0</td>\n",
              "      <td>2981.0</td>\n",
              "      <td>94089.51</td>\n",
              "      <td>0.30</td>\n",
              "      <td>-2529.98</td>\n",
              "      <td>74461.10</td>\n",
              "      <td>0.24</td>\n",
              "      <td>0.0</td>\n",
              "      <td>19628.41</td>\n",
              "      <td>0.06</td>\n",
              "      <td>-2529.98</td>\n",
              "      <td>0.00</td>\n",
              "      <td>0.00</td>\n",
              "      <td>0.00</td>\n",
              "      <td>94089.51</td>\n",
              "      <td>0.30</td>\n",
              "      <td>-2529.98</td>\n",
              "      <td>...</td>\n",
              "      <td>0.0</td>\n",
              "      <td>0.0</td>\n",
              "      <td>0.00</td>\n",
              "      <td>0.00</td>\n",
              "      <td>0.00</td>\n",
              "      <td>201805.0</td>\n",
              "      <td>74461.0</td>\n",
              "      <td>0.0</td>\n",
              "      <td>-2530.0</td>\n",
              "      <td>0.0</td>\n",
              "      <td>0.0</td>\n",
              "      <td>0.0</td>\n",
              "      <td>74461.0</td>\n",
              "      <td>0.0</td>\n",
              "      <td>-2530.0</td>\n",
              "      <td>0.0</td>\n",
              "      <td>0.0</td>\n",
              "      <td>0.0</td>\n",
              "      <td>74461.0</td>\n",
              "      <td>0.0</td>\n",
              "      <td>-2530.0</td>\n",
              "      <td>0.0</td>\n",
              "      <td>0.0</td>\n",
              "      <td>0.0</td>\n",
              "      <td>0.0</td>\n",
              "      <td>0.0</td>\n",
              "      <td>0.0</td>\n",
              "      <td>0.0</td>\n",
              "      <td>0.0</td>\n",
              "      <td>0.0</td>\n",
              "      <td>2018.0</td>\n",
              "      <td>5.0</td>\n",
              "      <td>9.0</td>\n",
              "      <td>2018.0</td>\n",
              "      <td>7.0</td>\n",
              "      <td>10.0</td>\n",
              "      <td>2010.0</td>\n",
              "      <td>8.0</td>\n",
              "      <td>7.0</td>\n",
              "      <td>0</td>\n",
              "    </tr>\n",
              "  </tbody>\n",
              "</table>\n",
              "<p>3 rows × 90 columns</p>\n",
              "</div>"
            ],
            "text/plain": [
              "   Cliente  Marca  Cupo  ...  FechaAltaCliente_month  FechaAltaCliente_day  Target\n",
              "0   4119.0   40.0  16.0  ...                     4.0                  27.0       1\n",
              "1    412.0   29.0   9.0  ...                     4.0                   8.0       0\n",
              "2   4680.0   40.0  16.0  ...                     8.0                   7.0       0\n",
              "\n",
              "[3 rows x 90 columns]"
            ]
          },
          "metadata": {
            "tags": []
          },
          "execution_count": 53
        }
      ]
    },
    {
      "cell_type": "code",
      "metadata": {
        "id": "ylS0qFp1BzV2"
      },
      "source": [
        "##Generamos Target\n",
        "data['Target']=0\n",
        "data.loc[data['Target']>=1,'Target']=1"
      ],
      "execution_count": 51,
      "outputs": []
    },
    {
      "cell_type": "code",
      "metadata": {
        "id": "vv6goJcM6Gvh",
        "outputId": "177ff920-eeaf-4954-d56a-ed5f0e1703e9",
        "colab": {
          "base_uri": "https://localhost:8080/"
        }
      },
      "source": [
        "data.groupby('Target')['Cliente'].count()/len(data) ## validamos que Este correcto El target check"
      ],
      "execution_count": 54,
      "outputs": [
        {
          "output_type": "execute_result",
          "data": {
            "text/plain": [
              "Target\n",
              "0    0.752395\n",
              "1    0.243871\n",
              "Name: Cliente, dtype: float64"
            ]
          },
          "metadata": {
            "tags": []
          },
          "execution_count": 54
        }
      ]
    },
    {
      "cell_type": "code",
      "metadata": {
        "colab": {
          "base_uri": "https://localhost:8080/"
        },
        "id": "fE_PSVPq-29C",
        "outputId": "26ce040f-6784-4f74-cc6b-afcd05a6a356"
      },
      "source": [
        "##Generamos base para entrenar \n",
        "DataTrain=data[(data['MinFecha_Desde']<'2019-09-01')]\n",
        "print('Numero de registros en Train :  ' + str(len(DataTrain)))\n",
        "DataTest=data[(data['MinFecha_Desde']>'2019-09-01')]\n",
        "print('Numero de registros en Test :  ' + str(len(DataTest)))"
      ],
      "execution_count": 58,
      "outputs": [
        {
          "output_type": "stream",
          "text": [
            "Numero de registros en Train :  33613\n",
            "Numero de registros en Test :  809\n"
          ],
          "name": "stdout"
        }
      ]
    },
    {
      "cell_type": "code",
      "metadata": {
        "colab": {
          "base_uri": "https://localhost:8080/"
        },
        "id": "kLaq4d3fFhUc",
        "outputId": "f480630c-5bb5-496d-9660-1c0e988935e0"
      },
      "source": [
        "DataTrain.groupby('Target')['Cliente'].count()/len(DataTrain)"
      ],
      "execution_count": 60,
      "outputs": [
        {
          "output_type": "execute_result",
          "data": {
            "text/plain": [
              "Target\n",
              "0    0.751435\n",
              "1    0.248565\n",
              "Name: Cliente, dtype: float64"
            ]
          },
          "metadata": {
            "tags": []
          },
          "execution_count": 60
        }
      ]
    },
    {
      "cell_type": "code",
      "metadata": {
        "id": "6YZL2e7-DLNY",
        "outputId": "0145a179-abf2-4f09-9039-09223e18d64e",
        "colab": {
          "base_uri": "https://localhost:8080/"
        }
      },
      "source": [
        "DataTest.groupby('Target')['Cliente'].count()/len(DataTest)"
      ],
      "execution_count": 61,
      "outputs": [
        {
          "output_type": "execute_result",
          "data": {
            "text/plain": [
              "Target\n",
              "0    0.912237\n",
              "1    0.087763\n",
              "Name: Cliente, dtype: float64"
            ]
          },
          "metadata": {
            "tags": []
          },
          "execution_count": 61
        }
      ]
    },
    {
      "cell_type": "code",
      "metadata": {
        "id": "0azPFXQDG-Ht"
      },
      "source": [
        "#visualizacion variables categoricas\n",
        "import matplotlib.gridspec as gridspec\n",
        "import seaborn as sns\n",
        "\n",
        "features = DataTrain.drop(['CodigoDC','Fecha_Desde','Fecha_Hasta','Cliente','FechaAltaCliente'],axis=1).columns\n",
        "\n",
        "plt.figure(figsize=(20,40))\n",
        "gs = gridspec.GridSpec(8, 4)\n",
        "gs.update(hspace=0.8)\n",
        "\n",
        "for i, f in enumerate(features):\n",
        "    ax = plt.subplot(gs[i])\n",
        "\n",
        "    sns.countplot(data=DataTrain, x=f, hue='Target', order=np.sort(DataTrain[f].unique()), palette=sns.xkcd_palette(['blue','red']))\n",
        "    ax.set_xlabel('')\n",
        "    ax.set_xticklabels(ax.get_xticklabels(),rotation=90)\n",
        "    ax.set_ylabel('')\n",
        "    ax.set_title('feature: ' + str(f))\n",
        "\n",
        "plt.show()"
      ],
      "execution_count": null,
      "outputs": []
    },
    {
      "cell_type": "code",
      "metadata": {
        "id": "BiGIWS0MKCID"
      },
      "source": [
        "####Separamos en X y Y\n",
        "\n",
        "X=DataTrain.loc[:,['Marca','Cupo','NroPromo_Marca_Cupo','NroPromo_Cliente','Region','Gerencia','SubCanal','TipoPoblacion','Estrato','EF','Antiguedad_Cliente_dd','NroPromocionesPlan_Previas','NroPromocionesExecutadas_Previas','Fecha_Desde_year','Fecha_Desde_month','Fecha_Desde_day','Fecha_Hasta_year','Fecha_Hasta_month','Fecha_Hasta_day',\n",
        "              'FechaAltaCliente_year','FechaAltaCliente_month','FechaAltaCliente_day']]\n",
        "\n",
        "y=DataTrain.loc[:,['Target']]"
      ],
      "execution_count": null,
      "outputs": []
    },
    {
      "cell_type": "code",
      "metadata": {
        "id": "tpxnHtPWObbd"
      },
      "source": [
        "from sklearn.model_selection import train_test_split\n",
        "X_train, X_test, y_train, y_test = train_test_split(X, # (X,y,%test,estratificacion)\n",
        "                                                    y, \n",
        "                                                    test_size=0.30,\n",
        "                                                    stratify=DataTrain['Target'], ###Dado que la base esta desvalanceada\n",
        "                                                    random_state=100)"
      ],
      "execution_count": null,
      "outputs": []
    },
    {
      "cell_type": "code",
      "metadata": {
        "id": "tceKhi7aOsSD"
      },
      "source": [
        "########################################\n",
        "# Selección de Variables\n",
        "########################################\n",
        "\n",
        "import matplotlib.pyplot as plt\n",
        "from sklearn import metrics\n",
        "from sklearn.ensemble import ExtraTreesClassifier"
      ],
      "execution_count": null,
      "outputs": []
    },
    {
      "cell_type": "code",
      "metadata": {
        "id": "f4YtzDmGO14T"
      },
      "source": [
        "# Seleccion por Random Forest\n",
        "from sklearn.ensemble import RandomForestClassifier # Paso01: Instancio el algoritmo\n",
        "forest = RandomForestClassifier()                   # Paso02: Configuro el algoritmo\n",
        "forest.fit(X_train, y_train) "
      ],
      "execution_count": null,
      "outputs": []
    },
    {
      "cell_type": "code",
      "metadata": {
        "id": "9UE7CdgUPCtP"
      },
      "source": [
        "# Paso N°04: Predecir con el algoritmo entrenado para validar\n",
        "y_pred_train=forest.predict(X_train) # Prediccion sobre el train\n",
        "y_pred_test= forest.predict(X_test) # Prediccion sobre el test"
      ],
      "execution_count": null,
      "outputs": []
    },
    {
      "cell_type": "code",
      "metadata": {
        "id": "GDRhNpbiPKzr"
      },
      "source": [
        "# Paso N°05: Comparar el valor pronosticado con el valor real\n",
        "\n",
        "from sklearn import metrics as metrics\n",
        "# Matriz de confusion\n",
        "print(\"Matriz confusion: Train\")\n",
        "cm_train = metrics.confusion_matrix(y_train,y_pred_train)\n",
        "print(cm_train)\n",
        "\n",
        "print(\"Matriz confusion: Test\")\n",
        "cm_test = metrics.confusion_matrix(y_test,y_pred_test)\n",
        "print(cm_test)\n",
        "\n",
        "# Accuracy\n",
        "print(\"Accuracy: Train\")\n",
        "accuracy_train=metrics.accuracy_score(y_train,y_pred_train)\n",
        "print(accuracy_train)\n",
        "\n",
        "print(\"Accuracy: Test\")\n",
        "accuracy_test=metrics.accuracy_score(y_test,y_pred_test)\n",
        "print(accuracy_test)\n",
        "\n",
        "# Precision\n",
        "print(\"Precision: Train\")\n",
        "precision_train=metrics.precision_score(y_train,y_pred_train)\n",
        "print(precision_train)\n",
        "\n",
        "print(\"Precision: Test\")\n",
        "precision_test=metrics.precision_score(y_test,y_pred_test)\n",
        "print(precision_test)\n",
        "\n",
        "# Recall\n",
        "print(\"Recall: Train\")\n",
        "recall_train=metrics.recall_score(y_train,y_pred_train)\n",
        "print(recall_train)\n",
        "\n",
        "print(\"Recall: Test\")\n",
        "recall_test=metrics.recall_score(y_test,y_pred_test)\n",
        "print(recall_test)"
      ],
      "execution_count": null,
      "outputs": []
    },
    {
      "cell_type": "code",
      "metadata": {
        "id": "A2Ce96wpPQCT"
      },
      "source": [
        "importances = forest.feature_importances_     "
      ],
      "execution_count": null,
      "outputs": []
    },
    {
      "cell_type": "code",
      "metadata": {
        "id": "bJCqoOnSPddT"
      },
      "source": [
        "# Seleccion por Random Forest\n",
        "TablaImportancia = pd.concat([pd.DataFrame({'Driver':list(X_train.columns)}),\n",
        "                              pd.DataFrame({'Importancia':list(forest.feature_importances_)})], axis = 1)\n",
        "ImportanciaVariables = TablaImportancia[['Driver','Importancia']].sort_values('Importancia', ascending = False).reset_index(drop = True)\n",
        "ImportanciaVariables"
      ],
      "execution_count": null,
      "outputs": []
    },
    {
      "cell_type": "code",
      "metadata": {
        "id": "xVmLuS2NPl_T"
      },
      "source": [
        "########################################\n",
        "# Modelamiento de los datos\n",
        "########################################\n",
        "\n",
        "## Modelos Supervisados : Regresión Logística Binaria ##\n",
        "\n",
        "# Paso N°01: Llamar un algoritmo predictivos\n",
        "from sklearn.linear_model import LogisticRegression\n",
        "\n",
        "RegLog = LogisticRegression() # Paso N°02: Configuro el algoritmo\n",
        "RegLog.fit(X_train, y_train)  # Paso N°03: Entreno o ajusto el algoritmo predictivo a los datos\n",
        "\n",
        "\n"
      ],
      "execution_count": null,
      "outputs": []
    },
    {
      "cell_type": "code",
      "metadata": {
        "id": "jCKrLaYbPxRz"
      },
      "source": [
        "# Paso N°04: Predecir con el algoritmo entrenado para validar\n",
        "y_pred_train=RegLog.predict(X_train) # Prediccion sobre el train\n",
        "y_pred_test= RegLog.predict(X_test) # Prediccion sobre el test"
      ],
      "execution_count": null,
      "outputs": []
    },
    {
      "cell_type": "code",
      "metadata": {
        "id": "lPJVeNrQPxYz"
      },
      "source": [
        "# Paso N°05: Comparar el valor pronosticado con el valor real\n",
        "\n",
        "from sklearn import metrics as metrics\n",
        "# Matriz de confusion\n",
        "print(\"Matriz confusion: Train\")\n",
        "cm_train = metrics.confusion_matrix(y_train,y_pred_train)\n",
        "print(cm_train)\n",
        "\n",
        "print(\"Matriz confusion: Test\")\n",
        "cm_test = metrics.confusion_matrix(y_test,y_pred_test)\n",
        "print(cm_test)\n",
        "\n",
        "# Accuracy\n",
        "print(\"Accuracy: Train\")\n",
        "accuracy_train=metrics.accuracy_score(y_train,y_pred_train)\n",
        "print(accuracy_train)\n",
        "\n",
        "print(\"Accuracy: Test\")\n",
        "accuracy_test=metrics.accuracy_score(y_test,y_pred_test)\n",
        "print(accuracy_test)\n",
        "\n",
        "# Precision\n",
        "print(\"Precision: Train\")\n",
        "precision_train=metrics.precision_score(y_train,y_pred_train)\n",
        "print(precision_train)\n",
        "\n",
        "print(\"Precision: Test\")\n",
        "precision_test=metrics.precision_score(y_test,y_pred_test)\n",
        "print(precision_test)\n",
        "\n",
        "# Recall\n",
        "print(\"Recall: Train\")\n",
        "recall_train=metrics.recall_score(y_train,y_pred_train)\n",
        "print(recall_train)\n",
        "\n",
        "print(\"Recall: Test\")\n",
        "recall_test=metrics.recall_score(y_test,y_pred_test)\n",
        "print(recall_test)"
      ],
      "execution_count": null,
      "outputs": []
    },
    {
      "cell_type": "code",
      "metadata": {
        "id": "dItZMBQ0P7D8"
      },
      "source": [
        ""
      ],
      "execution_count": null,
      "outputs": []
    },
    {
      "cell_type": "code",
      "metadata": {
        "id": "bxR2AT5-OWnE"
      },
      "source": [
        "X.head(3)"
      ],
      "execution_count": null,
      "outputs": []
    },
    {
      "cell_type": "markdown",
      "metadata": {
        "id": "1oytaiJGOErw"
      },
      "source": [
        ""
      ]
    },
    {
      "cell_type": "code",
      "metadata": {
        "id": "Xkf0zfg_Fxrt"
      },
      "source": [
        "DataTrain.head(3)"
      ],
      "execution_count": null,
      "outputs": []
    },
    {
      "cell_type": "markdown",
      "metadata": {
        "id": "iOjH4rjaREgs"
      },
      "source": [
        "## En Produccion\n"
      ]
    },
    {
      "cell_type": "code",
      "metadata": {
        "id": "2_K12J2eRXd9"
      },
      "source": [
        "del DataTest['Target']"
      ],
      "execution_count": null,
      "outputs": []
    },
    {
      "cell_type": "code",
      "metadata": {
        "id": "rrLLvcFQRjuU"
      },
      "source": [
        "del test['Ejecuto_Promo']"
      ],
      "execution_count": null,
      "outputs": []
    },
    {
      "cell_type": "code",
      "metadata": {
        "id": "byK8xmyxFxue"
      },
      "source": [
        "DataTest.head(3)"
      ],
      "execution_count": null,
      "outputs": []
    },
    {
      "cell_type": "code",
      "metadata": {
        "id": "O9ThKms6RfQN"
      },
      "source": [
        "test.head(3)"
      ],
      "execution_count": null,
      "outputs": []
    },
    {
      "cell_type": "code",
      "metadata": {
        "id": "KsGW_T4DFGgM"
      },
      "source": [
        "result = pd.merge(test, DataTest, how='left', on=['Cliente', 'Marca','Cupo'])"
      ],
      "execution_count": null,
      "outputs": []
    },
    {
      "cell_type": "code",
      "metadata": {
        "id": "dL1KUCSpRSDF"
      },
      "source": [
        "result.head(30)"
      ],
      "execution_count": null,
      "outputs": []
    },
    {
      "cell_type": "code",
      "metadata": {
        "id": "5uPfVsSlTQLH"
      },
      "source": [
        "result.Region.coun"
      ],
      "execution_count": null,
      "outputs": []
    },
    {
      "cell_type": "code",
      "metadata": {
        "id": "GQqd7NnVTmuM"
      },
      "source": [
        "result.groupby('Region')['Cliente'].count()"
      ],
      "execution_count": null,
      "outputs": []
    },
    {
      "cell_type": "code",
      "metadata": {
        "id": "1K7-2-I5RyR-"
      },
      "source": [
        "result.isna().sum()"
      ],
      "execution_count": null,
      "outputs": []
    },
    {
      "cell_type": "code",
      "metadata": {
        "id": "P3hF390-R1xY"
      },
      "source": [
        "len(result)"
      ],
      "execution_count": null,
      "outputs": []
    }
  ]
}