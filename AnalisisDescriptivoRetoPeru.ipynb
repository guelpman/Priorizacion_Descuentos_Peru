{
  "nbformat": 4,
  "nbformat_minor": 0,
  "metadata": {
    "colab": {
      "name": "Untitled4.ipynb",
      "provenance": [],
      "collapsed_sections": [],
      "include_colab_link": true
    },
    "kernelspec": {
      "name": "python3",
      "display_name": "Python 3"
    }
  },
  "cells": [
    {
      "cell_type": "markdown",
      "metadata": {
        "id": "view-in-github",
        "colab_type": "text"
      },
      "source": [
        "<a href=\"https://colab.research.google.com/github/guelpman/Priorizacion_Descuentos_Peru/blob/main/AnalisisDescriptivoRetoPeru.ipynb\" target=\"_parent\"><img src=\"https://colab.research.google.com/assets/colab-badge.svg\" alt=\"Open In Colab\"/></a>"
      ]
    },
    {
      "cell_type": "code",
      "metadata": {
        "id": "8xeuJDvDi05Y"
      },
      "source": [
        "import pandas as pd\n",
        "import os"
      ],
      "execution_count": 1,
      "outputs": []
    },
    {
      "cell_type": "code",
      "metadata": {
        "id": "n5VZ42hFbzHX"
      },
      "source": [
        "import numpy as np"
      ],
      "execution_count": 2,
      "outputs": []
    },
    {
      "cell_type": "code",
      "metadata": {
        "colab": {
          "base_uri": "https://localhost:8080/",
          "height": 204
        },
        "id": "iDd8rOCrj-aa",
        "outputId": "84cbad31-a40c-4efc-9d37-2604272222b9"
      },
      "source": [
        "### Importamos los data set --- \n",
        "urlpath = \"https://raw.githubusercontent.com/IrisMon/Priorizacion_Descuentos_Peru/main/\"\n",
        "filename = \"executed_promos.csv\"\n",
        "fullpath = os.path.join(urlpath, filename)\n",
        "df_executed_promos= pd.read_csv(fullpath)\n",
        "df_executed_promos.head()"
      ],
      "execution_count": 12,
      "outputs": [
        {
          "output_type": "execute_result",
          "data": {
            "text/html": [
              "<div>\n",
              "<style scoped>\n",
              "    .dataframe tbody tr th:only-of-type {\n",
              "        vertical-align: middle;\n",
              "    }\n",
              "\n",
              "    .dataframe tbody tr th {\n",
              "        vertical-align: top;\n",
              "    }\n",
              "\n",
              "    .dataframe thead th {\n",
              "        text-align: right;\n",
              "    }\n",
              "</style>\n",
              "<table border=\"1\" class=\"dataframe\">\n",
              "  <thead>\n",
              "    <tr style=\"text-align: right;\">\n",
              "      <th></th>\n",
              "      <th>CodigoDC</th>\n",
              "      <th>Cliente</th>\n",
              "      <th>Marca</th>\n",
              "      <th>Cupo</th>\n",
              "    </tr>\n",
              "  </thead>\n",
              "  <tbody>\n",
              "    <tr>\n",
              "      <th>0</th>\n",
              "      <td>297601</td>\n",
              "      <td>8410</td>\n",
              "      <td>29</td>\n",
              "      <td>9</td>\n",
              "    </tr>\n",
              "    <tr>\n",
              "      <th>1</th>\n",
              "      <td>297601</td>\n",
              "      <td>9337</td>\n",
              "      <td>29</td>\n",
              "      <td>9</td>\n",
              "    </tr>\n",
              "    <tr>\n",
              "      <th>2</th>\n",
              "      <td>309843</td>\n",
              "      <td>7404</td>\n",
              "      <td>40</td>\n",
              "      <td>16</td>\n",
              "    </tr>\n",
              "    <tr>\n",
              "      <th>3</th>\n",
              "      <td>309874</td>\n",
              "      <td>4017</td>\n",
              "      <td>40</td>\n",
              "      <td>16</td>\n",
              "    </tr>\n",
              "    <tr>\n",
              "      <th>4</th>\n",
              "      <td>309910</td>\n",
              "      <td>6316</td>\n",
              "      <td>40</td>\n",
              "      <td>16</td>\n",
              "    </tr>\n",
              "  </tbody>\n",
              "</table>\n",
              "</div>"
            ],
            "text/plain": [
              "   CodigoDC  Cliente  Marca  Cupo\n",
              "0    297601     8410     29     9\n",
              "1    297601     9337     29     9\n",
              "2    309843     7404     40    16\n",
              "3    309874     4017     40    16\n",
              "4    309910     6316     40    16"
            ]
          },
          "metadata": {
            "tags": []
          },
          "execution_count": 12
        }
      ]
    },
    {
      "cell_type": "code",
      "metadata": {
        "id": "Tke9YQ35Q8Sy",
        "outputId": "51008c95-0c32-4a0a-c075-8a7df91e7f9f",
        "colab": {
          "base_uri": "https://localhost:8080/",
          "height": 204
        }
      },
      "source": [
        "### Importamos los data set clients_attributes\n",
        "filename = \"clients_attributes.csv\"\n",
        "fullpath = os.path.join(urlpath, filename)\n",
        "df_clients_attributes= pd.read_csv(fullpath)\n",
        "df_clients_attributes.head()"
      ],
      "execution_count": 17,
      "outputs": [
        {
          "output_type": "execute_result",
          "data": {
            "text/html": [
              "<div>\n",
              "<style scoped>\n",
              "    .dataframe tbody tr th:only-of-type {\n",
              "        vertical-align: middle;\n",
              "    }\n",
              "\n",
              "    .dataframe tbody tr th {\n",
              "        vertical-align: top;\n",
              "    }\n",
              "\n",
              "    .dataframe thead th {\n",
              "        text-align: right;\n",
              "    }\n",
              "</style>\n",
              "<table border=\"1\" class=\"dataframe\">\n",
              "  <thead>\n",
              "    <tr style=\"text-align: right;\">\n",
              "      <th></th>\n",
              "      <th>Cliente</th>\n",
              "      <th>FechaAltaCliente</th>\n",
              "      <th>Region</th>\n",
              "      <th>Gerencia</th>\n",
              "      <th>SubCanal</th>\n",
              "      <th>TipoPoblacion</th>\n",
              "      <th>Estrato</th>\n",
              "      <th>EF</th>\n",
              "    </tr>\n",
              "  </thead>\n",
              "  <tbody>\n",
              "    <tr>\n",
              "      <th>0</th>\n",
              "      <td>1</td>\n",
              "      <td>2009-03-03</td>\n",
              "      <td>4</td>\n",
              "      <td>21</td>\n",
              "      <td>12</td>\n",
              "      <td>1</td>\n",
              "      <td>1</td>\n",
              "      <td>1</td>\n",
              "    </tr>\n",
              "    <tr>\n",
              "      <th>1</th>\n",
              "      <td>9</td>\n",
              "      <td>2009-03-03</td>\n",
              "      <td>4</td>\n",
              "      <td>21</td>\n",
              "      <td>9</td>\n",
              "      <td>2</td>\n",
              "      <td>3</td>\n",
              "      <td>1</td>\n",
              "    </tr>\n",
              "    <tr>\n",
              "      <th>2</th>\n",
              "      <td>15</td>\n",
              "      <td>2009-03-03</td>\n",
              "      <td>4</td>\n",
              "      <td>21</td>\n",
              "      <td>9</td>\n",
              "      <td>2</td>\n",
              "      <td>3</td>\n",
              "      <td>0</td>\n",
              "    </tr>\n",
              "    <tr>\n",
              "      <th>3</th>\n",
              "      <td>37</td>\n",
              "      <td>2009-03-03</td>\n",
              "      <td>4</td>\n",
              "      <td>21</td>\n",
              "      <td>16</td>\n",
              "      <td>2</td>\n",
              "      <td>3</td>\n",
              "      <td>1</td>\n",
              "    </tr>\n",
              "    <tr>\n",
              "      <th>4</th>\n",
              "      <td>43</td>\n",
              "      <td>2009-03-03</td>\n",
              "      <td>4</td>\n",
              "      <td>21</td>\n",
              "      <td>9</td>\n",
              "      <td>2</td>\n",
              "      <td>3</td>\n",
              "      <td>0</td>\n",
              "    </tr>\n",
              "  </tbody>\n",
              "</table>\n",
              "</div>"
            ],
            "text/plain": [
              "   Cliente FechaAltaCliente  Region  ...  TipoPoblacion  Estrato  EF\n",
              "0        1       2009-03-03       4  ...              1        1   1\n",
              "1        9       2009-03-03       4  ...              2        3   1\n",
              "2       15       2009-03-03       4  ...              2        3   0\n",
              "3       37       2009-03-03       4  ...              2        3   1\n",
              "4       43       2009-03-03       4  ...              2        3   0\n",
              "\n",
              "[5 rows x 8 columns]"
            ]
          },
          "metadata": {
            "tags": []
          },
          "execution_count": 17
        }
      ]
    },
    {
      "cell_type": "code",
      "metadata": {
        "id": "A9ebms58RD6z",
        "outputId": "d2ac47d1-dc18-4a16-b74a-0c3c8225b013",
        "colab": {
          "base_uri": "https://localhost:8080/",
          "height": 204
        }
      },
      "source": [
        "### Importamos los data set active_promos\n",
        "urlpath = \"https://raw.githubusercontent.com/IrisMon/Priorizacion_Descuentos_Peru/main/\"\n",
        "filename = \"active_promos.csv\"\n",
        "fullpath = os.path.join(urlpath, filename)\n",
        "df_active_promos= pd.read_csv(fullpath)\n",
        "df_active_promos.head()"
      ],
      "execution_count": 14,
      "outputs": [
        {
          "output_type": "execute_result",
          "data": {
            "text/html": [
              "<div>\n",
              "<style scoped>\n",
              "    .dataframe tbody tr th:only-of-type {\n",
              "        vertical-align: middle;\n",
              "    }\n",
              "\n",
              "    .dataframe tbody tr th {\n",
              "        vertical-align: top;\n",
              "    }\n",
              "\n",
              "    .dataframe thead th {\n",
              "        text-align: right;\n",
              "    }\n",
              "</style>\n",
              "<table border=\"1\" class=\"dataframe\">\n",
              "  <thead>\n",
              "    <tr style=\"text-align: right;\">\n",
              "      <th></th>\n",
              "      <th>CodigoDC</th>\n",
              "      <th>Marca</th>\n",
              "      <th>Cupo</th>\n",
              "      <th>Fecha_Desde</th>\n",
              "      <th>Fecha_Hasta</th>\n",
              "      <th>Cliente</th>\n",
              "    </tr>\n",
              "  </thead>\n",
              "  <tbody>\n",
              "    <tr>\n",
              "      <th>0</th>\n",
              "      <td>297601</td>\n",
              "      <td>29</td>\n",
              "      <td>9</td>\n",
              "      <td>2018-08-06</td>\n",
              "      <td>2018-08-30</td>\n",
              "      <td>3213</td>\n",
              "    </tr>\n",
              "    <tr>\n",
              "      <th>1</th>\n",
              "      <td>297601</td>\n",
              "      <td>29</td>\n",
              "      <td>9</td>\n",
              "      <td>2018-08-06</td>\n",
              "      <td>2018-08-30</td>\n",
              "      <td>3795</td>\n",
              "    </tr>\n",
              "    <tr>\n",
              "      <th>2</th>\n",
              "      <td>297601</td>\n",
              "      <td>29</td>\n",
              "      <td>9</td>\n",
              "      <td>2018-08-06</td>\n",
              "      <td>2018-08-30</td>\n",
              "      <td>11816</td>\n",
              "    </tr>\n",
              "    <tr>\n",
              "      <th>3</th>\n",
              "      <td>298856</td>\n",
              "      <td>40</td>\n",
              "      <td>16</td>\n",
              "      <td>2018-08-12</td>\n",
              "      <td>2018-08-19</td>\n",
              "      <td>8444</td>\n",
              "    </tr>\n",
              "    <tr>\n",
              "      <th>4</th>\n",
              "      <td>309916</td>\n",
              "      <td>40</td>\n",
              "      <td>16</td>\n",
              "      <td>2018-08-12</td>\n",
              "      <td>2018-08-19</td>\n",
              "      <td>8488</td>\n",
              "    </tr>\n",
              "  </tbody>\n",
              "</table>\n",
              "</div>"
            ],
            "text/plain": [
              "   CodigoDC  Marca  Cupo Fecha_Desde Fecha_Hasta  Cliente\n",
              "0    297601     29     9  2018-08-06  2018-08-30     3213\n",
              "1    297601     29     9  2018-08-06  2018-08-30     3795\n",
              "2    297601     29     9  2018-08-06  2018-08-30    11816\n",
              "3    298856     40    16  2018-08-12  2018-08-19     8444\n",
              "4    309916     40    16  2018-08-12  2018-08-19     8488"
            ]
          },
          "metadata": {
            "tags": []
          },
          "execution_count": 14
        }
      ]
    },
    {
      "cell_type": "code",
      "metadata": {
        "id": "w4m2ZZFoRPYb",
        "outputId": "f2c8d045-c0b8-4d46-a8b2-9e86103d9683",
        "colab": {
          "base_uri": "https://localhost:8080/",
          "height": 204
        }
      },
      "source": [
        "### Importamos los data set active_promos\n",
        "urlpath = \"https://raw.githubusercontent.com/IrisMon/Priorizacion_Descuentos_Peru/main/\"\n",
        "filename = \"sales.csv\"\n",
        "fullpath = os.path.join(urlpath, filename)\n",
        "df_sales= pd.read_csv(fullpath,encoding='ISO-8859-1')\n",
        "df_sales.head()"
      ],
      "execution_count": 16,
      "outputs": [
        {
          "output_type": "execute_result",
          "data": {
            "text/html": [
              "<div>\n",
              "<style scoped>\n",
              "    .dataframe tbody tr th:only-of-type {\n",
              "        vertical-align: middle;\n",
              "    }\n",
              "\n",
              "    .dataframe tbody tr th {\n",
              "        vertical-align: top;\n",
              "    }\n",
              "\n",
              "    .dataframe thead th {\n",
              "        text-align: right;\n",
              "    }\n",
              "</style>\n",
              "<table border=\"1\" class=\"dataframe\">\n",
              "  <thead>\n",
              "    <tr style=\"text-align: right;\">\n",
              "      <th></th>\n",
              "      <th>Cliente</th>\n",
              "      <th>Año</th>\n",
              "      <th>Mes</th>\n",
              "      <th>ClaseEnvase</th>\n",
              "      <th>SegmentoPrecio</th>\n",
              "      <th>Marca</th>\n",
              "      <th>Cupo</th>\n",
              "      <th>Nr</th>\n",
              "      <th>Hl</th>\n",
              "      <th>Dcto</th>\n",
              "    </tr>\n",
              "  </thead>\n",
              "  <tbody>\n",
              "    <tr>\n",
              "      <th>0</th>\n",
              "      <td>1</td>\n",
              "      <td>2018</td>\n",
              "      <td>1</td>\n",
              "      <td>2</td>\n",
              "      <td>2.0</td>\n",
              "      <td>44</td>\n",
              "      <td>10.0</td>\n",
              "      <td>6352.94</td>\n",
              "      <td>0.03</td>\n",
              "      <td>0.0</td>\n",
              "    </tr>\n",
              "    <tr>\n",
              "      <th>1</th>\n",
              "      <td>1</td>\n",
              "      <td>2018</td>\n",
              "      <td>1</td>\n",
              "      <td>2</td>\n",
              "      <td>4.0</td>\n",
              "      <td>18</td>\n",
              "      <td>16.0</td>\n",
              "      <td>99130.50</td>\n",
              "      <td>0.45</td>\n",
              "      <td>0.0</td>\n",
              "    </tr>\n",
              "    <tr>\n",
              "      <th>2</th>\n",
              "      <td>1</td>\n",
              "      <td>2018</td>\n",
              "      <td>6</td>\n",
              "      <td>2</td>\n",
              "      <td>1.0</td>\n",
              "      <td>2</td>\n",
              "      <td>6.0</td>\n",
              "      <td>11605.40</td>\n",
              "      <td>0.07</td>\n",
              "      <td>-2880.0</td>\n",
              "    </tr>\n",
              "    <tr>\n",
              "      <th>3</th>\n",
              "      <td>1</td>\n",
              "      <td>2018</td>\n",
              "      <td>7</td>\n",
              "      <td>1</td>\n",
              "      <td>2.0</td>\n",
              "      <td>37</td>\n",
              "      <td>34.0</td>\n",
              "      <td>1944.01</td>\n",
              "      <td>0.01</td>\n",
              "      <td>0.0</td>\n",
              "    </tr>\n",
              "    <tr>\n",
              "      <th>4</th>\n",
              "      <td>1</td>\n",
              "      <td>2018</td>\n",
              "      <td>8</td>\n",
              "      <td>2</td>\n",
              "      <td>1.0</td>\n",
              "      <td>2</td>\n",
              "      <td>16.0</td>\n",
              "      <td>16250.18</td>\n",
              "      <td>0.06</td>\n",
              "      <td>0.0</td>\n",
              "    </tr>\n",
              "  </tbody>\n",
              "</table>\n",
              "</div>"
            ],
            "text/plain": [
              "   Cliente   Año  Mes  ClaseEnvase  ...  Cupo        Nr    Hl    Dcto\n",
              "0        1  2018    1            2  ...  10.0   6352.94  0.03     0.0\n",
              "1        1  2018    1            2  ...  16.0  99130.50  0.45     0.0\n",
              "2        1  2018    6            2  ...   6.0  11605.40  0.07 -2880.0\n",
              "3        1  2018    7            1  ...  34.0   1944.01  0.01     0.0\n",
              "4        1  2018    8            2  ...  16.0  16250.18  0.06     0.0\n",
              "\n",
              "[5 rows x 10 columns]"
            ]
          },
          "metadata": {
            "tags": []
          },
          "execution_count": 16
        }
      ]
    },
    {
      "cell_type": "code",
      "metadata": {
        "id": "dw7eu86HTgsb"
      },
      "source": [
        ""
      ],
      "execution_count": null,
      "outputs": []
    }
  ]
}